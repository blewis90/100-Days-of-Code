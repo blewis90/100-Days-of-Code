{
 "cells": [
  {
   "cell_type": "code",
   "execution_count": 1,
   "id": "8fa73056",
   "metadata": {
    "_cell_guid": "b1076dfc-b9ad-4769-8c92-a6c4dae69d19",
    "_uuid": "8f2839f25d086af736a60e9eeb907d3b93b6e0e5",
    "execution": {
     "iopub.execute_input": "2022-06-03T20:37:20.317060Z",
     "iopub.status.busy": "2022-06-03T20:37:20.315880Z",
     "iopub.status.idle": "2022-06-03T20:37:20.329358Z",
     "shell.execute_reply": "2022-06-03T20:37:20.328635Z"
    },
    "papermill": {
     "duration": 0.023963,
     "end_time": "2022-06-03T20:37:20.331413",
     "exception": false,
     "start_time": "2022-06-03T20:37:20.307450",
     "status": "completed"
    },
    "tags": []
   },
   "outputs": [],
   "source": [
    "# This Python 3 environment comes with many helpful analytics libraries installed\n",
    "# It is defined by the kaggle/python Docker image: https://github.com/kaggle/docker-python\n",
    "# For example, here's several helpful packages to load\n",
    "\n",
    "import numpy as np # linear algebra\n",
    "import pandas as pd # data processing, CSV file I/O (e.g. pd.read_csv)\n",
    "\n",
    "# Input data files are available in the read-only \"../input/\" directory\n",
    "# For example, running this (by clicking run or pressing Shift+Enter) will list all files under the input directory\n",
    "\n",
    "import os\n",
    "for dirname, _, filenames in os.walk('/kaggle/input'):\n",
    "    for filename in filenames:\n",
    "        print(os.path.join(dirname, filename))\n",
    "\n",
    "# You can write up to 20GB to the current directory (/kaggle/working/) that gets preserved as output when you create a version using \"Save & Run All\" \n",
    "# You can also write temporary files to /kaggle/temp/, but they won't be saved outside of the current session"
   ]
  },
  {
   "cell_type": "code",
   "execution_count": null,
   "id": "38d1efcb",
   "metadata": {
    "papermill": {
     "duration": 0.004646,
     "end_time": "2022-06-03T20:37:20.343312",
     "exception": false,
     "start_time": "2022-06-03T20:37:20.338666",
     "status": "completed"
    },
    "tags": []
   },
   "outputs": [],
   "source": []
  },
  {
   "cell_type": "code",
   "execution_count": 2,
   "id": "42d6659e",
   "metadata": {
    "execution": {
     "iopub.execute_input": "2022-06-03T20:37:20.354722Z",
     "iopub.status.busy": "2022-06-03T20:37:20.354298Z",
     "iopub.status.idle": "2022-06-03T20:37:20.359993Z",
     "shell.execute_reply": "2022-06-03T20:37:20.359059Z"
    },
    "papermill": {
     "duration": 0.014416,
     "end_time": "2022-06-03T20:37:20.362774",
     "exception": false,
     "start_time": "2022-06-03T20:37:20.348358",
     "status": "completed"
    },
    "tags": []
   },
   "outputs": [
    {
     "name": "stdout",
     "output_type": "stream",
     "text": [
      "8\n"
     ]
    }
   ],
   "source": [
    "print(len(\"95637+12\"))"
   ]
  },
  {
   "cell_type": "code",
   "execution_count": 3,
   "id": "f942e7ce",
   "metadata": {
    "execution": {
     "iopub.execute_input": "2022-06-03T20:37:20.374191Z",
     "iopub.status.busy": "2022-06-03T20:37:20.373476Z",
     "iopub.status.idle": "2022-06-03T20:37:20.379787Z",
     "shell.execute_reply": "2022-06-03T20:37:20.378665Z"
    },
    "papermill": {
     "duration": 0.013907,
     "end_time": "2022-06-03T20:37:20.381587",
     "exception": false,
     "start_time": "2022-06-03T20:37:20.367680",
     "status": "completed"
    },
    "tags": []
   },
   "outputs": [
    {
     "name": "stdout",
     "output_type": "stream",
     "text": [
      "B\n"
     ]
    }
   ],
   "source": [
    "score = 67\n",
    "if score < 80 and score > 70:\n",
    "    print('A')\n",
    "elif score < 90 or score > 80:\n",
    "    print('B')\n",
    "elif score > 60:\n",
    "    print('C')\n",
    "else:\n",
    "    print('D')"
   ]
  },
  {
   "cell_type": "code",
   "execution_count": 4,
   "id": "3affe94d",
   "metadata": {
    "execution": {
     "iopub.execute_input": "2022-06-03T20:37:20.392769Z",
     "iopub.status.busy": "2022-06-03T20:37:20.392131Z",
     "iopub.status.idle": "2022-06-03T20:37:20.397838Z",
     "shell.execute_reply": "2022-06-03T20:37:20.396914Z"
    },
    "papermill": {
     "duration": 0.013695,
     "end_time": "2022-06-03T20:37:20.400154",
     "exception": false,
     "start_time": "2022-06-03T20:37:20.386459",
     "status": "completed"
    },
    "tags": []
   },
   "outputs": [
    {
     "name": "stdout",
     "output_type": "stream",
     "text": [
      "15\n"
     ]
    }
   ],
   "source": [
    "def outer_function(a,b):\n",
    "    def inner_function(c,d):\n",
    "        return c+d\n",
    "    return inner_function(a,b)\n",
    "\n",
    "result = outer_function(5,10)\n",
    "print(result)"
   ]
  },
  {
   "cell_type": "code",
   "execution_count": 5,
   "id": "6f9b0871",
   "metadata": {
    "execution": {
     "iopub.execute_input": "2022-06-03T20:37:20.411377Z",
     "iopub.status.busy": "2022-06-03T20:37:20.410948Z",
     "iopub.status.idle": "2022-06-03T20:37:20.414433Z",
     "shell.execute_reply": "2022-06-03T20:37:20.413859Z"
    },
    "papermill": {
     "duration": 0.011135,
     "end_time": "2022-06-03T20:37:20.416256",
     "exception": false,
     "start_time": "2022-06-03T20:37:20.405121",
     "status": "completed"
    },
    "tags": []
   },
   "outputs": [],
   "source": [
    "def foo(a, b=4, c=6):\n",
    "    print(a,b,c)"
   ]
  },
  {
   "cell_type": "code",
   "execution_count": 6,
   "id": "7cb1847e",
   "metadata": {
    "execution": {
     "iopub.execute_input": "2022-06-03T20:37:20.427953Z",
     "iopub.status.busy": "2022-06-03T20:37:20.427485Z",
     "iopub.status.idle": "2022-06-03T20:37:20.431356Z",
     "shell.execute_reply": "2022-06-03T20:37:20.430654Z"
    },
    "papermill": {
     "duration": 0.011982,
     "end_time": "2022-06-03T20:37:20.433222",
     "exception": false,
     "start_time": "2022-06-03T20:37:20.421240",
     "status": "completed"
    },
    "tags": []
   },
   "outputs": [
    {
     "name": "stdout",
     "output_type": "stream",
     "text": [
      "20 4 12\n"
     ]
    }
   ],
   "source": [
    "foo(20, c=12)"
   ]
  },
  {
   "cell_type": "code",
   "execution_count": 7,
   "id": "c3326dd4",
   "metadata": {
    "execution": {
     "iopub.execute_input": "2022-06-03T20:37:20.445680Z",
     "iopub.status.busy": "2022-06-03T20:37:20.445146Z",
     "iopub.status.idle": "2022-06-03T20:37:20.449076Z",
     "shell.execute_reply": "2022-06-03T20:37:20.448244Z"
    },
    "papermill": {
     "duration": 0.012807,
     "end_time": "2022-06-03T20:37:20.451193",
     "exception": false,
     "start_time": "2022-06-03T20:37:20.438386",
     "status": "completed"
    },
    "tags": []
   },
   "outputs": [],
   "source": [
    "def all_aboard(a, *args, **kw):\n",
    "    print(a,args, kw)"
   ]
  },
  {
   "cell_type": "code",
   "execution_count": 8,
   "id": "b074f3c3",
   "metadata": {
    "execution": {
     "iopub.execute_input": "2022-06-03T20:37:20.462454Z",
     "iopub.status.busy": "2022-06-03T20:37:20.462102Z",
     "iopub.status.idle": "2022-06-03T20:37:20.466964Z",
     "shell.execute_reply": "2022-06-03T20:37:20.466151Z"
    },
    "papermill": {
     "duration": 0.012945,
     "end_time": "2022-06-03T20:37:20.469120",
     "exception": false,
     "start_time": "2022-06-03T20:37:20.456175",
     "status": "completed"
    },
    "tags": []
   },
   "outputs": [
    {
     "name": "stdout",
     "output_type": "stream",
     "text": [
      "4 (7, 3, 0) {'x': 10, 'y': 64}\n"
     ]
    }
   ],
   "source": [
    "all_aboard(4,7,3,0, x=10, y = 64)"
   ]
  },
  {
   "cell_type": "code",
   "execution_count": 9,
   "id": "25928612",
   "metadata": {
    "execution": {
     "iopub.execute_input": "2022-06-03T20:37:20.480790Z",
     "iopub.status.busy": "2022-06-03T20:37:20.480213Z",
     "iopub.status.idle": "2022-06-03T20:37:20.484985Z",
     "shell.execute_reply": "2022-06-03T20:37:20.484366Z"
    },
    "papermill": {
     "duration": 0.012485,
     "end_time": "2022-06-03T20:37:20.486710",
     "exception": false,
     "start_time": "2022-06-03T20:37:20.474225",
     "status": "completed"
    },
    "tags": []
   },
   "outputs": [],
   "source": [
    "numbers = [1,1,2,3,5,8,13,21,34,55]\n",
    "result = [num + 3 for num in numbers if num % 2 == 0]"
   ]
  },
  {
   "cell_type": "code",
   "execution_count": 10,
   "id": "fb70ea5c",
   "metadata": {
    "execution": {
     "iopub.execute_input": "2022-06-03T20:37:20.498466Z",
     "iopub.status.busy": "2022-06-03T20:37:20.497831Z",
     "iopub.status.idle": "2022-06-03T20:37:20.502502Z",
     "shell.execute_reply": "2022-06-03T20:37:20.501578Z"
    },
    "papermill": {
     "duration": 0.01317,
     "end_time": "2022-06-03T20:37:20.504949",
     "exception": false,
     "start_time": "2022-06-03T20:37:20.491779",
     "status": "completed"
    },
    "tags": []
   },
   "outputs": [
    {
     "name": "stdout",
     "output_type": "stream",
     "text": [
      "[5, 11, 37]\n"
     ]
    }
   ],
   "source": [
    "print(result)"
   ]
  },
  {
   "cell_type": "code",
   "execution_count": 11,
   "id": "c2e6181b",
   "metadata": {
    "execution": {
     "iopub.execute_input": "2022-06-03T20:37:20.516766Z",
     "iopub.status.busy": "2022-06-03T20:37:20.516443Z",
     "iopub.status.idle": "2022-06-03T20:37:20.521024Z",
     "shell.execute_reply": "2022-06-03T20:37:20.520139Z"
    },
    "papermill": {
     "duration": 0.013317,
     "end_time": "2022-06-03T20:37:20.523368",
     "exception": false,
     "start_time": "2022-06-03T20:37:20.510051",
     "status": "completed"
    },
    "tags": []
   },
   "outputs": [
    {
     "name": "stdout",
     "output_type": "stream",
     "text": [
      "Hello world\n"
     ]
    }
   ],
   "source": [
    "print('Hello world')"
   ]
  },
  {
   "cell_type": "code",
   "execution_count": 12,
   "id": "709131f9",
   "metadata": {
    "execution": {
     "iopub.execute_input": "2022-06-03T20:37:20.536037Z",
     "iopub.status.busy": "2022-06-03T20:37:20.535714Z",
     "iopub.status.idle": "2022-06-03T20:37:20.540002Z",
     "shell.execute_reply": "2022-06-03T20:37:20.539153Z"
    },
    "papermill": {
     "duration": 0.012514,
     "end_time": "2022-06-03T20:37:20.541987",
     "exception": false,
     "start_time": "2022-06-03T20:37:20.529473",
     "status": "completed"
    },
    "tags": []
   },
   "outputs": [
    {
     "name": "stdout",
     "output_type": "stream",
     "text": [
      "Hello world!\n",
      "Hellow World!\n",
      "Hello World\n"
     ]
    }
   ],
   "source": [
    "print('Hello world!\\nHellow World!\\nHello World')"
   ]
  },
  {
   "cell_type": "code",
   "execution_count": 13,
   "id": "b2eb41ba",
   "metadata": {
    "execution": {
     "iopub.execute_input": "2022-06-03T20:37:20.553720Z",
     "iopub.status.busy": "2022-06-03T20:37:20.553384Z",
     "iopub.status.idle": "2022-06-03T20:37:20.557694Z",
     "shell.execute_reply": "2022-06-03T20:37:20.556814Z"
    },
    "papermill": {
     "duration": 0.012781,
     "end_time": "2022-06-03T20:37:20.560009",
     "exception": false,
     "start_time": "2022-06-03T20:37:20.547228",
     "status": "completed"
    },
    "tags": []
   },
   "outputs": [
    {
     "name": "stdout",
     "output_type": "stream",
     "text": [
      "HelloAngela\n"
     ]
    }
   ],
   "source": [
    "print(\"Hello\" + \"Angela\")"
   ]
  },
  {
   "cell_type": "code",
   "execution_count": 14,
   "id": "af3ef5ba",
   "metadata": {
    "execution": {
     "iopub.execute_input": "2022-06-03T20:37:20.573034Z",
     "iopub.status.busy": "2022-06-03T20:37:20.572699Z",
     "iopub.status.idle": "2022-06-03T20:37:20.577242Z",
     "shell.execute_reply": "2022-06-03T20:37:20.576334Z"
    },
    "papermill": {
     "duration": 0.013432,
     "end_time": "2022-06-03T20:37:20.579730",
     "exception": false,
     "start_time": "2022-06-03T20:37:20.566298",
     "status": "completed"
    },
    "tags": []
   },
   "outputs": [
    {
     "name": "stdout",
     "output_type": "stream",
     "text": [
      "Hello Angela\n"
     ]
    }
   ],
   "source": [
    "print(\"Hello\" + \" \" + \"Angela\")"
   ]
  },
  {
   "cell_type": "code",
   "execution_count": null,
   "id": "090e08f4",
   "metadata": {
    "papermill": {
     "duration": 0.005125,
     "end_time": "2022-06-03T20:37:20.591332",
     "exception": false,
     "start_time": "2022-06-03T20:37:20.586207",
     "status": "completed"
    },
    "tags": []
   },
   "outputs": [],
   "source": []
  }
 ],
 "metadata": {
  "kernelspec": {
   "display_name": "Python 3",
   "language": "python",
   "name": "python3"
  },
  "language_info": {
   "codemirror_mode": {
    "name": "ipython",
    "version": 3
   },
   "file_extension": ".py",
   "mimetype": "text/x-python",
   "name": "python",
   "nbconvert_exporter": "python",
   "pygments_lexer": "ipython3",
   "version": "3.7.12"
  },
  "papermill": {
   "default_parameters": {},
   "duration": 10.632152,
   "end_time": "2022-06-03T20:37:21.216315",
   "environment_variables": {},
   "exception": null,
   "input_path": "__notebook__.ipynb",
   "output_path": "__notebook__.ipynb",
   "parameters": {},
   "start_time": "2022-06-03T20:37:10.584163",
   "version": "2.3.4"
  }
 },
 "nbformat": 4,
 "nbformat_minor": 5
}
