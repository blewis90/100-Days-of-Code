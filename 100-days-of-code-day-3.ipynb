{
 "cells": [
  {
   "cell_type": "code",
   "execution_count": 1,
   "id": "a86dc70d",
   "metadata": {
    "_cell_guid": "b1076dfc-b9ad-4769-8c92-a6c4dae69d19",
    "_uuid": "8f2839f25d086af736a60e9eeb907d3b93b6e0e5",
    "execution": {
     "iopub.execute_input": "2022-06-07T19:48:59.025363Z",
     "iopub.status.busy": "2022-06-07T19:48:59.024832Z",
     "iopub.status.idle": "2022-06-07T19:48:59.038151Z",
     "shell.execute_reply": "2022-06-07T19:48:59.037007Z"
    },
    "papermill": {
     "duration": 0.021393,
     "end_time": "2022-06-07T19:48:59.041047",
     "exception": false,
     "start_time": "2022-06-07T19:48:59.019654",
     "status": "completed"
    },
    "tags": []
   },
   "outputs": [],
   "source": [
    "# This Python 3 environment comes with many helpful analytics libraries installed\n",
    "# It is defined by the kaggle/python Docker image: https://github.com/kaggle/docker-python\n",
    "# For example, here's several helpful packages to load\n",
    "\n",
    "import numpy as np # linear algebra\n",
    "import pandas as pd # data processing, CSV file I/O (e.g. pd.read_csv)\n",
    "\n",
    "# Input data files are available in the read-only \"../input/\" directory\n",
    "# For example, running this (by clicking run or pressing Shift+Enter) will list all files under the input directory\n",
    "\n",
    "import os\n",
    "for dirname, _, filenames in os.walk('/kaggle/input'):\n",
    "    for filename in filenames:\n",
    "        print(os.path.join(dirname, filename))\n",
    "\n",
    "# You can write up to 20GB to the current directory (/kaggle/working/) that gets preserved as output when you create a version using \"Save & Run All\" \n",
    "# You can also write temporary files to /kaggle/temp/, but they won't be saved outside of the current session"
   ]
  },
  {
   "cell_type": "code",
   "execution_count": 2,
   "id": "05df04f8",
   "metadata": {
    "execution": {
     "iopub.execute_input": "2022-06-07T19:48:59.048462Z",
     "iopub.status.busy": "2022-06-07T19:48:59.047784Z",
     "iopub.status.idle": "2022-06-07T19:48:59.052610Z",
     "shell.execute_reply": "2022-06-07T19:48:59.051951Z"
    },
    "papermill": {
     "duration": 0.011554,
     "end_time": "2022-06-07T19:48:59.055288",
     "exception": false,
     "start_time": "2022-06-07T19:48:59.043734",
     "status": "completed"
    },
    "tags": []
   },
   "outputs": [
    {
     "name": "stdout",
     "output_type": "stream",
     "text": [
      "Welcome to the rollercoaster!\n"
     ]
    }
   ],
   "source": [
    "###\n",
    "print(\"Welcome to the rollercoaster!\")\n",
    "####height = int(input(\"What is your height in cm?\"))\n",
    "###if height > 120:\n",
    "###    print(\"You can ride the rollercoaster!\")\n",
    "###else:\n",
    "###    print(\"Sorry you have to grow taller before you can ride.\")\n",
    "###"
   ]
  },
  {
   "cell_type": "code",
   "execution_count": null,
   "id": "5cb2b5bd",
   "metadata": {
    "papermill": {
     "duration": 0.001827,
     "end_time": "2022-06-07T19:48:59.059433",
     "exception": false,
     "start_time": "2022-06-07T19:48:59.057606",
     "status": "completed"
    },
    "tags": []
   },
   "outputs": [],
   "source": []
  }
 ],
 "metadata": {
  "kernelspec": {
   "display_name": "Python 3",
   "language": "python",
   "name": "python3"
  },
  "language_info": {
   "codemirror_mode": {
    "name": "ipython",
    "version": 3
   },
   "file_extension": ".py",
   "mimetype": "text/x-python",
   "name": "python",
   "nbconvert_exporter": "python",
   "pygments_lexer": "ipython3",
   "version": "3.7.12"
  },
  "papermill": {
   "default_parameters": {},
   "duration": 12.614942,
   "end_time": "2022-06-07T19:48:59.985381",
   "environment_variables": {},
   "exception": null,
   "input_path": "__notebook__.ipynb",
   "output_path": "__notebook__.ipynb",
   "parameters": {},
   "start_time": "2022-06-07T19:48:47.370439",
   "version": "2.3.4"
  }
 },
 "nbformat": 4,
 "nbformat_minor": 5
}
