{
 "cells": [
  {
   "cell_type": "code",
   "execution_count": 1,
   "id": "6af988ed",
   "metadata": {
    "_cell_guid": "b1076dfc-b9ad-4769-8c92-a6c4dae69d19",
    "_uuid": "8f2839f25d086af736a60e9eeb907d3b93b6e0e5",
    "execution": {
     "iopub.execute_input": "2022-06-11T19:33:44.103289Z",
     "iopub.status.busy": "2022-06-11T19:33:44.102220Z",
     "iopub.status.idle": "2022-06-11T19:33:44.116877Z",
     "shell.execute_reply": "2022-06-11T19:33:44.116166Z"
    },
    "papermill": {
     "duration": 0.021863,
     "end_time": "2022-06-11T19:33:44.119029",
     "exception": false,
     "start_time": "2022-06-11T19:33:44.097166",
     "status": "completed"
    },
    "tags": []
   },
   "outputs": [],
   "source": [
    "# This Python 3 environment comes with many helpful analytics libraries installed\n",
    "# It is defined by the kaggle/python Docker image: https://github.com/kaggle/docker-python\n",
    "# For example, here's several helpful packages to load\n",
    "\n",
    "import numpy as np # linear algebra\n",
    "import pandas as pd # data processing, CSV file I/O (e.g. pd.read_csv)\n",
    "\n",
    "# Input data files are available in the read-only \"../input/\" directory\n",
    "# For example, running this (by clicking run or pressing Shift+Enter) will list all files under the input directory\n",
    "\n",
    "import os\n",
    "for dirname, _, filenames in os.walk('/kaggle/input'):\n",
    "    for filename in filenames:\n",
    "        print(os.path.join(dirname, filename))\n",
    "\n",
    "# You can write up to 20GB to the current directory (/kaggle/working/) that gets preserved as output when you create a version using \"Save & Run All\" \n",
    "# You can also write temporary files to /kaggle/temp/, but they won't be saved outside of the current session"
   ]
  },
  {
   "cell_type": "code",
   "execution_count": 2,
   "id": "d48c7fc2",
   "metadata": {
    "execution": {
     "iopub.execute_input": "2022-06-11T19:33:44.125717Z",
     "iopub.status.busy": "2022-06-11T19:33:44.125122Z",
     "iopub.status.idle": "2022-06-11T19:33:44.129298Z",
     "shell.execute_reply": "2022-06-11T19:33:44.128705Z"
    },
    "papermill": {
     "duration": 0.009437,
     "end_time": "2022-06-11T19:33:44.131166",
     "exception": false,
     "start_time": "2022-06-11T19:33:44.121729",
     "status": "completed"
    },
    "tags": []
   },
   "outputs": [],
   "source": [
    "import random"
   ]
  },
  {
   "cell_type": "code",
   "execution_count": 3,
   "id": "2b9f8891",
   "metadata": {
    "execution": {
     "iopub.execute_input": "2022-06-11T19:33:44.137671Z",
     "iopub.status.busy": "2022-06-11T19:33:44.136892Z",
     "iopub.status.idle": "2022-06-11T19:33:44.142339Z",
     "shell.execute_reply": "2022-06-11T19:33:44.141494Z"
    },
    "papermill": {
     "duration": 0.01106,
     "end_time": "2022-06-11T19:33:44.144633",
     "exception": false,
     "start_time": "2022-06-11T19:33:44.133573",
     "status": "completed"
    },
    "tags": []
   },
   "outputs": [
    {
     "name": "stdout",
     "output_type": "stream",
     "text": [
      "9\n"
     ]
    }
   ],
   "source": [
    "random_integer = random.randint(1,10)\n",
    "print(random_integer)"
   ]
  },
  {
   "cell_type": "code",
   "execution_count": 4,
   "id": "24c937f9",
   "metadata": {
    "execution": {
     "iopub.execute_input": "2022-06-11T19:33:44.150895Z",
     "iopub.status.busy": "2022-06-11T19:33:44.150327Z",
     "iopub.status.idle": "2022-06-11T19:33:44.155174Z",
     "shell.execute_reply": "2022-06-11T19:33:44.154295Z"
    },
    "papermill": {
     "duration": 0.010534,
     "end_time": "2022-06-11T19:33:44.157591",
     "exception": false,
     "start_time": "2022-06-11T19:33:44.147057",
     "status": "completed"
    },
    "tags": []
   },
   "outputs": [
    {
     "name": "stdout",
     "output_type": "stream",
     "text": [
      "0.13322591088165947\n"
     ]
    }
   ],
   "source": [
    "random_float = random.random()\n",
    "print(random_float)"
   ]
  },
  {
   "cell_type": "code",
   "execution_count": null,
   "id": "897ff43e",
   "metadata": {
    "papermill": {
     "duration": 0.002182,
     "end_time": "2022-06-11T19:33:44.162188",
     "exception": false,
     "start_time": "2022-06-11T19:33:44.160006",
     "status": "completed"
    },
    "tags": []
   },
   "outputs": [],
   "source": []
  }
 ],
 "metadata": {
  "kernelspec": {
   "display_name": "Python 3",
   "language": "python",
   "name": "python3"
  },
  "language_info": {
   "codemirror_mode": {
    "name": "ipython",
    "version": 3
   },
   "file_extension": ".py",
   "mimetype": "text/x-python",
   "name": "python",
   "nbconvert_exporter": "python",
   "pygments_lexer": "ipython3",
   "version": "3.7.12"
  },
  "papermill": {
   "default_parameters": {},
   "duration": 10.645803,
   "end_time": "2022-06-11T19:33:44.784401",
   "environment_variables": {},
   "exception": null,
   "input_path": "__notebook__.ipynb",
   "output_path": "__notebook__.ipynb",
   "parameters": {},
   "start_time": "2022-06-11T19:33:34.138598",
   "version": "2.3.4"
  }
 },
 "nbformat": 4,
 "nbformat_minor": 5
}
