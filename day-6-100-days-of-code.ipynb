{
 "cells": [
  {
   "cell_type": "code",
   "execution_count": 1,
   "id": "c3aa42c3",
   "metadata": {
    "_cell_guid": "b1076dfc-b9ad-4769-8c92-a6c4dae69d19",
    "_uuid": "8f2839f25d086af736a60e9eeb907d3b93b6e0e5",
    "execution": {
     "iopub.execute_input": "2022-06-13T19:06:07.172166Z",
     "iopub.status.busy": "2022-06-13T19:06:07.171539Z",
     "iopub.status.idle": "2022-06-13T19:06:07.186173Z",
     "shell.execute_reply": "2022-06-13T19:06:07.185364Z"
    },
    "papermill": {
     "duration": 0.022341,
     "end_time": "2022-06-13T19:06:07.188241",
     "exception": false,
     "start_time": "2022-06-13T19:06:07.165900",
     "status": "completed"
    },
    "tags": []
   },
   "outputs": [],
   "source": [
    "# This Python 3 environment comes with many helpful analytics libraries installed\n",
    "# It is defined by the kaggle/python Docker image: https://github.com/kaggle/docker-python\n",
    "# For example, here's several helpful packages to load\n",
    "\n",
    "import numpy as np # linear algebra\n",
    "import pandas as pd # data processing, CSV file I/O (e.g. pd.read_csv)\n",
    "\n",
    "# Input data files are available in the read-only \"../input/\" directory\n",
    "# For example, running this (by clicking run or pressing Shift+Enter) will list all files under the input directory\n",
    "\n",
    "import os\n",
    "for dirname, _, filenames in os.walk('/kaggle/input'):\n",
    "    for filename in filenames:\n",
    "        print(os.path.join(dirname, filename))\n",
    "\n",
    "# You can write up to 20GB to the current directory (/kaggle/working/) that gets preserved as output when you create a version using \"Save & Run All\" \n",
    "# You can also write temporary files to /kaggle/temp/, but they won't be saved outside of the current session"
   ]
  },
  {
   "cell_type": "code",
   "execution_count": 2,
   "id": "5f733191",
   "metadata": {
    "execution": {
     "iopub.execute_input": "2022-06-13T19:06:07.196098Z",
     "iopub.status.busy": "2022-06-13T19:06:07.195260Z",
     "iopub.status.idle": "2022-06-13T19:06:07.200750Z",
     "shell.execute_reply": "2022-06-13T19:06:07.199805Z"
    },
    "papermill": {
     "duration": 0.011344,
     "end_time": "2022-06-13T19:06:07.202799",
     "exception": false,
     "start_time": "2022-06-13T19:06:07.191455",
     "status": "completed"
    },
    "tags": []
   },
   "outputs": [
    {
     "name": "stdout",
     "output_type": "stream",
     "text": [
      "Hello\n"
     ]
    }
   ],
   "source": [
    "print(\"Hello\")"
   ]
  },
  {
   "cell_type": "markdown",
   "id": "70d39108",
   "metadata": {
    "papermill": {
     "duration": 0.002924,
     "end_time": "2022-06-13T19:06:07.208655",
     "exception": false,
     "start_time": "2022-06-13T19:06:07.205731",
     "status": "completed"
    },
    "tags": []
   },
   "source": [
    "num_char = len(\"Hello\")"
   ]
  },
  {
   "cell_type": "code",
   "execution_count": 3,
   "id": "5696e538",
   "metadata": {
    "execution": {
     "iopub.execute_input": "2022-06-13T19:06:07.215945Z",
     "iopub.status.busy": "2022-06-13T19:06:07.215511Z",
     "iopub.status.idle": "2022-06-13T19:06:07.220168Z",
     "shell.execute_reply": "2022-06-13T19:06:07.219236Z"
    },
    "papermill": {
     "duration": 0.010636,
     "end_time": "2022-06-13T19:06:07.222205",
     "exception": false,
     "start_time": "2022-06-13T19:06:07.211569",
     "status": "completed"
    },
    "tags": []
   },
   "outputs": [],
   "source": [
    "num_char = len(\"Hello\")"
   ]
  },
  {
   "cell_type": "code",
   "execution_count": 4,
   "id": "09361f54",
   "metadata": {
    "execution": {
     "iopub.execute_input": "2022-06-13T19:06:07.229892Z",
     "iopub.status.busy": "2022-06-13T19:06:07.229324Z",
     "iopub.status.idle": "2022-06-13T19:06:07.234652Z",
     "shell.execute_reply": "2022-06-13T19:06:07.233741Z"
    },
    "papermill": {
     "duration": 0.013327,
     "end_time": "2022-06-13T19:06:07.238495",
     "exception": false,
     "start_time": "2022-06-13T19:06:07.225168",
     "status": "completed"
    },
    "tags": []
   },
   "outputs": [
    {
     "name": "stdout",
     "output_type": "stream",
     "text": [
      "5\n"
     ]
    }
   ],
   "source": [
    "print(num_char)"
   ]
  },
  {
   "cell_type": "code",
   "execution_count": 5,
   "id": "02844f48",
   "metadata": {
    "execution": {
     "iopub.execute_input": "2022-06-13T19:06:07.246104Z",
     "iopub.status.busy": "2022-06-13T19:06:07.245682Z",
     "iopub.status.idle": "2022-06-13T19:06:07.249653Z",
     "shell.execute_reply": "2022-06-13T19:06:07.248891Z"
    },
    "papermill": {
     "duration": 0.010198,
     "end_time": "2022-06-13T19:06:07.251682",
     "exception": false,
     "start_time": "2022-06-13T19:06:07.241484",
     "status": "completed"
    },
    "tags": []
   },
   "outputs": [],
   "source": [
    "def my_function():\n",
    "    print(\"Hello\")\n",
    "    print(\"Bye\")"
   ]
  },
  {
   "cell_type": "code",
   "execution_count": null,
   "id": "9ebdb642",
   "metadata": {
    "papermill": {
     "duration": 0.002728,
     "end_time": "2022-06-13T19:06:07.257532",
     "exception": false,
     "start_time": "2022-06-13T19:06:07.254804",
     "status": "completed"
    },
    "tags": []
   },
   "outputs": [],
   "source": []
  }
 ],
 "metadata": {
  "kernelspec": {
   "display_name": "Python 3",
   "language": "python",
   "name": "python3"
  },
  "language_info": {
   "codemirror_mode": {
    "name": "ipython",
    "version": 3
   },
   "file_extension": ".py",
   "mimetype": "text/x-python",
   "name": "python",
   "nbconvert_exporter": "python",
   "pygments_lexer": "ipython3",
   "version": "3.7.12"
  },
  "papermill": {
   "default_parameters": {},
   "duration": 11.154635,
   "end_time": "2022-06-13T19:06:07.880809",
   "environment_variables": {},
   "exception": null,
   "input_path": "__notebook__.ipynb",
   "output_path": "__notebook__.ipynb",
   "parameters": {},
   "start_time": "2022-06-13T19:05:56.726174",
   "version": "2.3.4"
  }
 },
 "nbformat": 4,
 "nbformat_minor": 5
}
