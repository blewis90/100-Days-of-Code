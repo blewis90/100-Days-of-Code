{
 "cells": [
  {
   "cell_type": "code",
   "execution_count": 1,
   "id": "4423f1b8",
   "metadata": {
    "_cell_guid": "b1076dfc-b9ad-4769-8c92-a6c4dae69d19",
    "_uuid": "8f2839f25d086af736a60e9eeb907d3b93b6e0e5",
    "execution": {
     "iopub.execute_input": "2022-06-13T20:27:01.586014Z",
     "iopub.status.busy": "2022-06-13T20:27:01.585551Z",
     "iopub.status.idle": "2022-06-13T20:27:01.595753Z",
     "shell.execute_reply": "2022-06-13T20:27:01.594814Z"
    },
    "papermill": {
     "duration": 0.017141,
     "end_time": "2022-06-13T20:27:01.597911",
     "exception": false,
     "start_time": "2022-06-13T20:27:01.580770",
     "status": "completed"
    },
    "tags": []
   },
   "outputs": [],
   "source": [
    "# This Python 3 environment comes with many helpful analytics libraries installed\n",
    "# It is defined by the kaggle/python Docker image: https://github.com/kaggle/docker-python\n",
    "# For example, here's several helpful packages to load\n",
    "\n",
    "import numpy as np # linear algebra\n",
    "import pandas as pd # data processing, CSV file I/O (e.g. pd.read_csv)\n",
    "\n",
    "# Input data files are available in the read-only \"../input/\" directory\n",
    "# For example, running this (by clicking run or pressing Shift+Enter) will list all files under the input directory\n",
    "\n",
    "import os\n",
    "for dirname, _, filenames in os.walk('/kaggle/input'):\n",
    "    for filename in filenames:\n",
    "        print(os.path.join(dirname, filename))\n",
    "\n",
    "# You can write up to 20GB to the current directory (/kaggle/working/) that gets preserved as output when you create a version using \"Save & Run All\" \n",
    "# You can also write temporary files to /kaggle/temp/, but they won't be saved outside of the current session"
   ]
  },
  {
   "cell_type": "code",
   "execution_count": 2,
   "id": "f9a03216",
   "metadata": {
    "execution": {
     "iopub.execute_input": "2022-06-13T20:27:01.604708Z",
     "iopub.status.busy": "2022-06-13T20:27:01.604308Z",
     "iopub.status.idle": "2022-06-13T20:27:01.608798Z",
     "shell.execute_reply": "2022-06-13T20:27:01.607893Z"
    },
    "papermill": {
     "duration": 0.010831,
     "end_time": "2022-06-13T20:27:01.611456",
     "exception": false,
     "start_time": "2022-06-13T20:27:01.600625",
     "status": "completed"
    },
    "tags": []
   },
   "outputs": [
    {
     "name": "stdout",
     "output_type": "stream",
     "text": [
      "Hello\n"
     ]
    }
   ],
   "source": [
    "print(\"Hello\")"
   ]
  },
  {
   "cell_type": "markdown",
   "id": "673ca340",
   "metadata": {
    "papermill": {
     "duration": 0.002043,
     "end_time": "2022-06-13T20:27:01.616104",
     "exception": false,
     "start_time": "2022-06-13T20:27:01.614061",
     "status": "completed"
    },
    "tags": []
   },
   "source": [
    "num_char = len(\"Hello\")"
   ]
  },
  {
   "cell_type": "code",
   "execution_count": 3,
   "id": "353b2703",
   "metadata": {
    "execution": {
     "iopub.execute_input": "2022-06-13T20:27:01.622257Z",
     "iopub.status.busy": "2022-06-13T20:27:01.621737Z",
     "iopub.status.idle": "2022-06-13T20:27:01.625705Z",
     "shell.execute_reply": "2022-06-13T20:27:01.624896Z"
    },
    "papermill": {
     "duration": 0.009097,
     "end_time": "2022-06-13T20:27:01.627435",
     "exception": false,
     "start_time": "2022-06-13T20:27:01.618338",
     "status": "completed"
    },
    "tags": []
   },
   "outputs": [],
   "source": [
    "num_char = len(\"Hello\")"
   ]
  },
  {
   "cell_type": "code",
   "execution_count": 4,
   "id": "946ed18c",
   "metadata": {
    "execution": {
     "iopub.execute_input": "2022-06-13T20:27:01.636329Z",
     "iopub.status.busy": "2022-06-13T20:27:01.635744Z",
     "iopub.status.idle": "2022-06-13T20:27:01.640086Z",
     "shell.execute_reply": "2022-06-13T20:27:01.639051Z"
    },
    "papermill": {
     "duration": 0.012583,
     "end_time": "2022-06-13T20:27:01.642435",
     "exception": false,
     "start_time": "2022-06-13T20:27:01.629852",
     "status": "completed"
    },
    "tags": []
   },
   "outputs": [
    {
     "name": "stdout",
     "output_type": "stream",
     "text": [
      "5\n"
     ]
    }
   ],
   "source": [
    "print(num_char)"
   ]
  },
  {
   "cell_type": "code",
   "execution_count": 5,
   "id": "3b1e26ed",
   "metadata": {
    "execution": {
     "iopub.execute_input": "2022-06-13T20:27:01.650504Z",
     "iopub.status.busy": "2022-06-13T20:27:01.649586Z",
     "iopub.status.idle": "2022-06-13T20:27:01.654850Z",
     "shell.execute_reply": "2022-06-13T20:27:01.654056Z"
    },
    "papermill": {
     "duration": 0.011162,
     "end_time": "2022-06-13T20:27:01.656790",
     "exception": false,
     "start_time": "2022-06-13T20:27:01.645628",
     "status": "completed"
    },
    "tags": []
   },
   "outputs": [],
   "source": [
    "def my_function():\n",
    "    print(\"Hello\")\n",
    "    print(\"Bye\")"
   ]
  },
  {
   "cell_type": "code",
   "execution_count": 6,
   "id": "ace02094",
   "metadata": {
    "execution": {
     "iopub.execute_input": "2022-06-13T20:27:01.663220Z",
     "iopub.status.busy": "2022-06-13T20:27:01.662835Z",
     "iopub.status.idle": "2022-06-13T20:27:01.667876Z",
     "shell.execute_reply": "2022-06-13T20:27:01.666923Z"
    },
    "papermill": {
     "duration": 0.010238,
     "end_time": "2022-06-13T20:27:01.669605",
     "exception": false,
     "start_time": "2022-06-13T20:27:01.659367",
     "status": "completed"
    },
    "tags": []
   },
   "outputs": [
    {
     "name": "stdout",
     "output_type": "stream",
     "text": [
      "Hello\n",
      "Bye\n"
     ]
    }
   ],
   "source": [
    "my_function()"
   ]
  },
  {
   "cell_type": "code",
   "execution_count": null,
   "id": "7fe9deda",
   "metadata": {
    "papermill": {
     "duration": 0.002128,
     "end_time": "2022-06-13T20:27:01.674188",
     "exception": false,
     "start_time": "2022-06-13T20:27:01.672060",
     "status": "completed"
    },
    "tags": []
   },
   "outputs": [],
   "source": [
    "    "
   ]
  }
 ],
 "metadata": {
  "kernelspec": {
   "display_name": "Python 3",
   "language": "python",
   "name": "python3"
  },
  "language_info": {
   "codemirror_mode": {
    "name": "ipython",
    "version": 3
   },
   "file_extension": ".py",
   "mimetype": "text/x-python",
   "name": "python",
   "nbconvert_exporter": "python",
   "pygments_lexer": "ipython3",
   "version": "3.7.12"
  },
  "papermill": {
   "default_parameters": {},
   "duration": 9.326322,
   "end_time": "2022-06-13T20:27:02.301483",
   "environment_variables": {},
   "exception": null,
   "input_path": "__notebook__.ipynb",
   "output_path": "__notebook__.ipynb",
   "parameters": {},
   "start_time": "2022-06-13T20:26:52.975161",
   "version": "2.3.4"
  }
 },
 "nbformat": 4,
 "nbformat_minor": 5
}
