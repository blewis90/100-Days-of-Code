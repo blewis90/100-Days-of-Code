{
 "cells": [
  {
   "cell_type": "code",
   "execution_count": 1,
   "id": "9a903c7d",
   "metadata": {
    "_cell_guid": "b1076dfc-b9ad-4769-8c92-a6c4dae69d19",
    "_uuid": "8f2839f25d086af736a60e9eeb907d3b93b6e0e5",
    "execution": {
     "iopub.execute_input": "2022-06-13T20:26:04.225728Z",
     "iopub.status.busy": "2022-06-13T20:26:04.225234Z",
     "iopub.status.idle": "2022-06-13T20:26:04.237325Z",
     "shell.execute_reply": "2022-06-13T20:26:04.236638Z"
    },
    "papermill": {
     "duration": 0.02033,
     "end_time": "2022-06-13T20:26:04.239532",
     "exception": false,
     "start_time": "2022-06-13T20:26:04.219202",
     "status": "completed"
    },
    "tags": []
   },
   "outputs": [],
   "source": [
    "# This Python 3 environment comes with many helpful analytics libraries installed\n",
    "# It is defined by the kaggle/python Docker image: https://github.com/kaggle/docker-python\n",
    "# For example, here's several helpful packages to load\n",
    "\n",
    "import numpy as np # linear algebra\n",
    "import pandas as pd # data processing, CSV file I/O (e.g. pd.read_csv)\n",
    "\n",
    "# Input data files are available in the read-only \"../input/\" directory\n",
    "# For example, running this (by clicking run or pressing Shift+Enter) will list all files under the input directory\n",
    "\n",
    "import os\n",
    "for dirname, _, filenames in os.walk('/kaggle/input'):\n",
    "    for filename in filenames:\n",
    "        print(os.path.join(dirname, filename))\n",
    "\n",
    "# You can write up to 20GB to the current directory (/kaggle/working/) that gets preserved as output when you create a version using \"Save & Run All\" \n",
    "# You can also write temporary files to /kaggle/temp/, but they won't be saved outside of the current session"
   ]
  },
  {
   "cell_type": "code",
   "execution_count": 2,
   "id": "023fd92f",
   "metadata": {
    "execution": {
     "iopub.execute_input": "2022-06-13T20:26:04.247832Z",
     "iopub.status.busy": "2022-06-13T20:26:04.247022Z",
     "iopub.status.idle": "2022-06-13T20:26:04.252728Z",
     "shell.execute_reply": "2022-06-13T20:26:04.251843Z"
    },
    "papermill": {
     "duration": 0.012605,
     "end_time": "2022-06-13T20:26:04.255588",
     "exception": false,
     "start_time": "2022-06-13T20:26:04.242983",
     "status": "completed"
    },
    "tags": []
   },
   "outputs": [
    {
     "name": "stdout",
     "output_type": "stream",
     "text": [
      "Hello\n"
     ]
    }
   ],
   "source": [
    "print(\"Hello\")"
   ]
  },
  {
   "cell_type": "markdown",
   "id": "097ac18f",
   "metadata": {
    "papermill": {
     "duration": 0.00275,
     "end_time": "2022-06-13T20:26:04.262330",
     "exception": false,
     "start_time": "2022-06-13T20:26:04.259580",
     "status": "completed"
    },
    "tags": []
   },
   "source": [
    "num_char = len(\"Hello\")"
   ]
  },
  {
   "cell_type": "code",
   "execution_count": 3,
   "id": "2361e575",
   "metadata": {
    "execution": {
     "iopub.execute_input": "2022-06-13T20:26:04.270266Z",
     "iopub.status.busy": "2022-06-13T20:26:04.269641Z",
     "iopub.status.idle": "2022-06-13T20:26:04.273975Z",
     "shell.execute_reply": "2022-06-13T20:26:04.273331Z"
    },
    "papermill": {
     "duration": 0.010576,
     "end_time": "2022-06-13T20:26:04.275870",
     "exception": false,
     "start_time": "2022-06-13T20:26:04.265294",
     "status": "completed"
    },
    "tags": []
   },
   "outputs": [],
   "source": [
    "num_char = len(\"Hello\")"
   ]
  },
  {
   "cell_type": "code",
   "execution_count": 4,
   "id": "a98a18d9",
   "metadata": {
    "execution": {
     "iopub.execute_input": "2022-06-13T20:26:04.285813Z",
     "iopub.status.busy": "2022-06-13T20:26:04.285447Z",
     "iopub.status.idle": "2022-06-13T20:26:04.290260Z",
     "shell.execute_reply": "2022-06-13T20:26:04.289320Z"
    },
    "papermill": {
     "duration": 0.013708,
     "end_time": "2022-06-13T20:26:04.292623",
     "exception": false,
     "start_time": "2022-06-13T20:26:04.278915",
     "status": "completed"
    },
    "tags": []
   },
   "outputs": [
    {
     "name": "stdout",
     "output_type": "stream",
     "text": [
      "5\n"
     ]
    }
   ],
   "source": [
    "print(num_char)"
   ]
  },
  {
   "cell_type": "code",
   "execution_count": 5,
   "id": "52789a59",
   "metadata": {
    "execution": {
     "iopub.execute_input": "2022-06-13T20:26:04.300592Z",
     "iopub.status.busy": "2022-06-13T20:26:04.299826Z",
     "iopub.status.idle": "2022-06-13T20:26:04.304332Z",
     "shell.execute_reply": "2022-06-13T20:26:04.303713Z"
    },
    "papermill": {
     "duration": 0.010555,
     "end_time": "2022-06-13T20:26:04.306289",
     "exception": false,
     "start_time": "2022-06-13T20:26:04.295734",
     "status": "completed"
    },
    "tags": []
   },
   "outputs": [],
   "source": [
    "def my_function():\n",
    "    print(\"Hello\")\n",
    "    print(\"Bye\")"
   ]
  },
  {
   "cell_type": "code",
   "execution_count": 6,
   "id": "8eaeb0ff",
   "metadata": {
    "execution": {
     "iopub.execute_input": "2022-06-13T20:26:04.314146Z",
     "iopub.status.busy": "2022-06-13T20:26:04.313589Z",
     "iopub.status.idle": "2022-06-13T20:26:04.319171Z",
     "shell.execute_reply": "2022-06-13T20:26:04.317950Z"
    },
    "papermill": {
     "duration": 0.012317,
     "end_time": "2022-06-13T20:26:04.321740",
     "exception": false,
     "start_time": "2022-06-13T20:26:04.309423",
     "status": "completed"
    },
    "tags": []
   },
   "outputs": [
    {
     "name": "stdout",
     "output_type": "stream",
     "text": [
      "Hello\n",
      "Bye\n"
     ]
    }
   ],
   "source": [
    "my_function()"
   ]
  },
  {
   "cell_type": "code",
   "execution_count": null,
   "id": "756d9b23",
   "metadata": {
    "papermill": {
     "duration": 0.002977,
     "end_time": "2022-06-13T20:26:04.328496",
     "exception": false,
     "start_time": "2022-06-13T20:26:04.325519",
     "status": "completed"
    },
    "tags": []
   },
   "outputs": [],
   "source": [
    "    "
   ]
  }
 ],
 "metadata": {
  "kernelspec": {
   "display_name": "Python 3",
   "language": "python",
   "name": "python3"
  },
  "language_info": {
   "codemirror_mode": {
    "name": "ipython",
    "version": 3
   },
   "file_extension": ".py",
   "mimetype": "text/x-python",
   "name": "python",
   "nbconvert_exporter": "python",
   "pygments_lexer": "ipython3",
   "version": "3.7.12"
  },
  "papermill": {
   "default_parameters": {},
   "duration": 11.798971,
   "end_time": "2022-06-13T20:26:04.952702",
   "environment_variables": {},
   "exception": null,
   "input_path": "__notebook__.ipynb",
   "output_path": "__notebook__.ipynb",
   "parameters": {},
   "start_time": "2022-06-13T20:25:53.153731",
   "version": "2.3.4"
  }
 },
 "nbformat": 4,
 "nbformat_minor": 5
}
