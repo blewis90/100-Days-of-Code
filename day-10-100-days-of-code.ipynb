{
 "cells": [
  {
   "cell_type": "code",
   "execution_count": 1,
   "id": "b8db24b6",
   "metadata": {
    "_cell_guid": "b1076dfc-b9ad-4769-8c92-a6c4dae69d19",
    "_uuid": "8f2839f25d086af736a60e9eeb907d3b93b6e0e5",
    "execution": {
     "iopub.execute_input": "2022-07-25T21:25:17.893036Z",
     "iopub.status.busy": "2022-07-25T21:25:17.892117Z",
     "iopub.status.idle": "2022-07-25T21:25:17.910133Z",
     "shell.execute_reply": "2022-07-25T21:25:17.908972Z"
    },
    "papermill": {
     "duration": 0.026799,
     "end_time": "2022-07-25T21:25:17.913460",
     "exception": false,
     "start_time": "2022-07-25T21:25:17.886661",
     "status": "completed"
    },
    "tags": []
   },
   "outputs": [],
   "source": [
    "# This Python 3 environment comes with many helpful analytics libraries installed\n",
    "# It is defined by the kaggle/python Docker image: https://github.com/kaggle/docker-python\n",
    "# For example, here's several helpful packages to load\n",
    "\n",
    "import numpy as np # linear algebra\n",
    "import pandas as pd # data processing, CSV file I/O (e.g. pd.read_csv)\n",
    "\n",
    "# Input data files are available in the read-only \"../input/\" directory\n",
    "# For example, running this (by clicking run or pressing Shift+Enter) will list all files under the input directory\n",
    "\n",
    "import os\n",
    "for dirname, _, filenames in os.walk('/kaggle/input'):\n",
    "    for filename in filenames:\n",
    "        print(os.path.join(dirname, filename))\n",
    "\n",
    "# You can write up to 20GB to the current directory (/kaggle/working/) that gets preserved as output when you create a version using \"Save & Run All\" \n",
    "# You can also write temporary files to /kaggle/temp/, but they won't be saved outside of the current session"
   ]
  },
  {
   "cell_type": "code",
   "execution_count": 2,
   "id": "32415280",
   "metadata": {
    "execution": {
     "iopub.execute_input": "2022-07-25T21:25:17.920674Z",
     "iopub.status.busy": "2022-07-25T21:25:17.920304Z",
     "iopub.status.idle": "2022-07-25T21:25:17.924824Z",
     "shell.execute_reply": "2022-07-25T21:25:17.923948Z"
    },
    "papermill": {
     "duration": 0.010391,
     "end_time": "2022-07-25T21:25:17.926725",
     "exception": false,
     "start_time": "2022-07-25T21:25:17.916334",
     "status": "completed"
    },
    "tags": []
   },
   "outputs": [],
   "source": [
    "def my_function():\n",
    "    result = 3 * 2\n",
    "    return result\n",
    "\n",
    "output = my_function()"
   ]
  },
  {
   "cell_type": "code",
   "execution_count": 3,
   "id": "1b0701f4",
   "metadata": {
    "execution": {
     "iopub.execute_input": "2022-07-25T21:25:17.933529Z",
     "iopub.status.busy": "2022-07-25T21:25:17.932815Z",
     "iopub.status.idle": "2022-07-25T21:25:17.937898Z",
     "shell.execute_reply": "2022-07-25T21:25:17.937061Z"
    },
    "papermill": {
     "duration": 0.011294,
     "end_time": "2022-07-25T21:25:17.940506",
     "exception": false,
     "start_time": "2022-07-25T21:25:17.929212",
     "status": "completed"
    },
    "tags": []
   },
   "outputs": [
    {
     "name": "stdout",
     "output_type": "stream",
     "text": [
      "6\n"
     ]
    }
   ],
   "source": [
    "print(output)"
   ]
  },
  {
   "cell_type": "code",
   "execution_count": 4,
   "id": "283d287e",
   "metadata": {
    "execution": {
     "iopub.execute_input": "2022-07-25T21:25:17.947389Z",
     "iopub.status.busy": "2022-07-25T21:25:17.946728Z",
     "iopub.status.idle": "2022-07-25T21:25:17.953490Z",
     "shell.execute_reply": "2022-07-25T21:25:17.952352Z"
    },
    "papermill": {
     "duration": 0.013009,
     "end_time": "2022-07-25T21:25:17.956071",
     "exception": false,
     "start_time": "2022-07-25T21:25:17.943062",
     "status": "completed"
    },
    "tags": []
   },
   "outputs": [
    {
     "name": "stdout",
     "output_type": "stream",
     "text": [
      "You didn't provide valid inputs\n"
     ]
    }
   ],
   "source": [
    "#functions with outputs\n",
    "\n",
    "def format_name(f_name, l_name):\n",
    "    if f_name == \"\" or l_name == \"\":\n",
    "        return \"You didn't provide valid inputs\"\n",
    "    formated_f_name = f_name.title()\n",
    "    formated_l_name = l_name.title()\n",
    "    return f\"{formated_f_name} {formated_l_name}\"\n",
    "\n",
    "formated_string = format_name(\"\",\"YU\")\n",
    "print(formated_string)"
   ]
  },
  {
   "cell_type": "code",
   "execution_count": null,
   "id": "8349b357",
   "metadata": {
    "papermill": {
     "duration": 0.002423,
     "end_time": "2022-07-25T21:25:17.961225",
     "exception": false,
     "start_time": "2022-07-25T21:25:17.958802",
     "status": "completed"
    },
    "tags": []
   },
   "outputs": [],
   "source": []
  }
 ],
 "metadata": {
  "kernelspec": {
   "display_name": "Python 3",
   "language": "python",
   "name": "python3"
  },
  "language_info": {
   "codemirror_mode": {
    "name": "ipython",
    "version": 3
   },
   "file_extension": ".py",
   "mimetype": "text/x-python",
   "name": "python",
   "nbconvert_exporter": "python",
   "pygments_lexer": "ipython3",
   "version": "3.7.12"
  },
  "papermill": {
   "default_parameters": {},
   "duration": 11.844623,
   "end_time": "2022-07-25T21:25:18.585835",
   "environment_variables": {},
   "exception": null,
   "input_path": "__notebook__.ipynb",
   "output_path": "__notebook__.ipynb",
   "parameters": {},
   "start_time": "2022-07-25T21:25:06.741212",
   "version": "2.3.4"
  }
 },
 "nbformat": 4,
 "nbformat_minor": 5
}
