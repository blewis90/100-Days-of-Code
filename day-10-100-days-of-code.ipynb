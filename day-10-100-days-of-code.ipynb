{
 "cells": [
  {
   "cell_type": "code",
   "execution_count": 1,
   "id": "cb92963d",
   "metadata": {
    "_cell_guid": "b1076dfc-b9ad-4769-8c92-a6c4dae69d19",
    "_uuid": "8f2839f25d086af736a60e9eeb907d3b93b6e0e5",
    "execution": {
     "iopub.execute_input": "2022-07-24T22:53:31.918680Z",
     "iopub.status.busy": "2022-07-24T22:53:31.917669Z",
     "iopub.status.idle": "2022-07-24T22:53:31.931374Z",
     "shell.execute_reply": "2022-07-24T22:53:31.930314Z"
    },
    "papermill": {
     "duration": 0.025472,
     "end_time": "2022-07-24T22:53:31.934421",
     "exception": false,
     "start_time": "2022-07-24T22:53:31.908949",
     "status": "completed"
    },
    "tags": []
   },
   "outputs": [],
   "source": [
    "# This Python 3 environment comes with many helpful analytics libraries installed\n",
    "# It is defined by the kaggle/python Docker image: https://github.com/kaggle/docker-python\n",
    "# For example, here's several helpful packages to load\n",
    "\n",
    "import numpy as np # linear algebra\n",
    "import pandas as pd # data processing, CSV file I/O (e.g. pd.read_csv)\n",
    "\n",
    "# Input data files are available in the read-only \"../input/\" directory\n",
    "# For example, running this (by clicking run or pressing Shift+Enter) will list all files under the input directory\n",
    "\n",
    "import os\n",
    "for dirname, _, filenames in os.walk('/kaggle/input'):\n",
    "    for filename in filenames:\n",
    "        print(os.path.join(dirname, filename))\n",
    "\n",
    "# You can write up to 20GB to the current directory (/kaggle/working/) that gets preserved as output when you create a version using \"Save & Run All\" \n",
    "# You can also write temporary files to /kaggle/temp/, but they won't be saved outside of the current session"
   ]
  },
  {
   "cell_type": "code",
   "execution_count": 2,
   "id": "8e543726",
   "metadata": {
    "execution": {
     "iopub.execute_input": "2022-07-24T22:53:31.942191Z",
     "iopub.status.busy": "2022-07-24T22:53:31.941631Z",
     "iopub.status.idle": "2022-07-24T22:53:31.945438Z",
     "shell.execute_reply": "2022-07-24T22:53:31.944779Z"
    },
    "papermill": {
     "duration": 0.01005,
     "end_time": "2022-07-24T22:53:31.947759",
     "exception": false,
     "start_time": "2022-07-24T22:53:31.937709",
     "status": "completed"
    },
    "tags": []
   },
   "outputs": [],
   "source": [
    "def my_function():\n",
    "    result = 3 * 2\n",
    "    return result\n",
    "\n",
    "output = my_function()"
   ]
  },
  {
   "cell_type": "code",
   "execution_count": 3,
   "id": "6d863381",
   "metadata": {
    "execution": {
     "iopub.execute_input": "2022-07-24T22:53:31.954263Z",
     "iopub.status.busy": "2022-07-24T22:53:31.953779Z",
     "iopub.status.idle": "2022-07-24T22:53:31.958368Z",
     "shell.execute_reply": "2022-07-24T22:53:31.957496Z"
    },
    "papermill": {
     "duration": 0.010054,
     "end_time": "2022-07-24T22:53:31.960779",
     "exception": false,
     "start_time": "2022-07-24T22:53:31.950725",
     "status": "completed"
    },
    "tags": []
   },
   "outputs": [
    {
     "name": "stdout",
     "output_type": "stream",
     "text": [
      "6\n"
     ]
    }
   ],
   "source": [
    "print(output)"
   ]
  },
  {
   "cell_type": "code",
   "execution_count": 4,
   "id": "b9fc2652",
   "metadata": {
    "execution": {
     "iopub.execute_input": "2022-07-24T22:53:31.968738Z",
     "iopub.status.busy": "2022-07-24T22:53:31.968088Z",
     "iopub.status.idle": "2022-07-24T22:53:31.974124Z",
     "shell.execute_reply": "2022-07-24T22:53:31.972871Z"
    },
    "papermill": {
     "duration": 0.012449,
     "end_time": "2022-07-24T22:53:31.976239",
     "exception": false,
     "start_time": "2022-07-24T22:53:31.963790",
     "status": "completed"
    },
    "tags": []
   },
   "outputs": [
    {
     "name": "stdout",
     "output_type": "stream",
     "text": [
      "You didn't provide valid inputs\n"
     ]
    }
   ],
   "source": [
    "#functions with outputs\n",
    "\n",
    "def format_name(f_name, l_name):\n",
    "    if f_name == \"\" or l_name == \"\":\n",
    "        return \"You didn't provide valid inputs\"\n",
    "    formated_f_name = f_name.title()\n",
    "    formated_l_name = l_name.title()\n",
    "    return f\"{formated_f_name} {formated_l_name}\"\n",
    "\n",
    "formated_string = format_name(\"\",\"YU\")\n",
    "print(formated_string)"
   ]
  },
  {
   "cell_type": "code",
   "execution_count": null,
   "id": "6d752046",
   "metadata": {
    "papermill": {
     "duration": 0.001631,
     "end_time": "2022-07-24T22:53:31.979952",
     "exception": false,
     "start_time": "2022-07-24T22:53:31.978321",
     "status": "completed"
    },
    "tags": []
   },
   "outputs": [],
   "source": []
  }
 ],
 "metadata": {
  "kernelspec": {
   "display_name": "Python 3",
   "language": "python",
   "name": "python3"
  },
  "language_info": {
   "codemirror_mode": {
    "name": "ipython",
    "version": 3
   },
   "file_extension": ".py",
   "mimetype": "text/x-python",
   "name": "python",
   "nbconvert_exporter": "python",
   "pygments_lexer": "ipython3",
   "version": "3.7.12"
  },
  "papermill": {
   "default_parameters": {},
   "duration": 9.406679,
   "end_time": "2022-07-24T22:53:32.601561",
   "environment_variables": {},
   "exception": null,
   "input_path": "__notebook__.ipynb",
   "output_path": "__notebook__.ipynb",
   "parameters": {},
   "start_time": "2022-07-24T22:53:23.194882",
   "version": "2.3.4"
  }
 },
 "nbformat": 4,
 "nbformat_minor": 5
}
