{
 "cells": [
  {
   "cell_type": "code",
   "execution_count": 1,
   "id": "3b879cda",
   "metadata": {
    "_cell_guid": "b1076dfc-b9ad-4769-8c92-a6c4dae69d19",
    "_uuid": "8f2839f25d086af736a60e9eeb907d3b93b6e0e5",
    "execution": {
     "iopub.execute_input": "2022-07-24T22:59:17.832512Z",
     "iopub.status.busy": "2022-07-24T22:59:17.832079Z",
     "iopub.status.idle": "2022-07-24T22:59:17.845396Z",
     "shell.execute_reply": "2022-07-24T22:59:17.844387Z"
    },
    "papermill": {
     "duration": 0.021095,
     "end_time": "2022-07-24T22:59:17.848329",
     "exception": false,
     "start_time": "2022-07-24T22:59:17.827234",
     "status": "completed"
    },
    "tags": []
   },
   "outputs": [],
   "source": [
    "# This Python 3 environment comes with many helpful analytics libraries installed\n",
    "# It is defined by the kaggle/python Docker image: https://github.com/kaggle/docker-python\n",
    "# For example, here's several helpful packages to load\n",
    "\n",
    "import numpy as np # linear algebra\n",
    "import pandas as pd # data processing, CSV file I/O (e.g. pd.read_csv)\n",
    "\n",
    "# Input data files are available in the read-only \"../input/\" directory\n",
    "# For example, running this (by clicking run or pressing Shift+Enter) will list all files under the input directory\n",
    "\n",
    "import os\n",
    "for dirname, _, filenames in os.walk('/kaggle/input'):\n",
    "    for filename in filenames:\n",
    "        print(os.path.join(dirname, filename))\n",
    "\n",
    "# You can write up to 20GB to the current directory (/kaggle/working/) that gets preserved as output when you create a version using \"Save & Run All\" \n",
    "# You can also write temporary files to /kaggle/temp/, but they won't be saved outside of the current session"
   ]
  },
  {
   "cell_type": "code",
   "execution_count": 2,
   "id": "a626d697",
   "metadata": {
    "execution": {
     "iopub.execute_input": "2022-07-24T22:59:17.855576Z",
     "iopub.status.busy": "2022-07-24T22:59:17.855026Z",
     "iopub.status.idle": "2022-07-24T22:59:17.858995Z",
     "shell.execute_reply": "2022-07-24T22:59:17.858257Z"
    },
    "papermill": {
     "duration": 0.009782,
     "end_time": "2022-07-24T22:59:17.861105",
     "exception": false,
     "start_time": "2022-07-24T22:59:17.851323",
     "status": "completed"
    },
    "tags": []
   },
   "outputs": [],
   "source": [
    "def my_function():\n",
    "    result = 3 * 2\n",
    "    return result\n",
    "\n",
    "output = my_function()"
   ]
  },
  {
   "cell_type": "code",
   "execution_count": 3,
   "id": "5779dc42",
   "metadata": {
    "execution": {
     "iopub.execute_input": "2022-07-24T22:59:17.867453Z",
     "iopub.status.busy": "2022-07-24T22:59:17.866912Z",
     "iopub.status.idle": "2022-07-24T22:59:17.871522Z",
     "shell.execute_reply": "2022-07-24T22:59:17.870697Z"
    },
    "papermill": {
     "duration": 0.010864,
     "end_time": "2022-07-24T22:59:17.874371",
     "exception": false,
     "start_time": "2022-07-24T22:59:17.863507",
     "status": "completed"
    },
    "tags": []
   },
   "outputs": [
    {
     "name": "stdout",
     "output_type": "stream",
     "text": [
      "6\n"
     ]
    }
   ],
   "source": [
    "print(output)"
   ]
  },
  {
   "cell_type": "code",
   "execution_count": 4,
   "id": "f63544cb",
   "metadata": {
    "execution": {
     "iopub.execute_input": "2022-07-24T22:59:17.882222Z",
     "iopub.status.busy": "2022-07-24T22:59:17.881559Z",
     "iopub.status.idle": "2022-07-24T22:59:17.888750Z",
     "shell.execute_reply": "2022-07-24T22:59:17.887304Z"
    },
    "papermill": {
     "duration": 0.013622,
     "end_time": "2022-07-24T22:59:17.891417",
     "exception": false,
     "start_time": "2022-07-24T22:59:17.877795",
     "status": "completed"
    },
    "tags": []
   },
   "outputs": [
    {
     "name": "stdout",
     "output_type": "stream",
     "text": [
      "You didn't provide valid inputs\n"
     ]
    }
   ],
   "source": [
    "#functions with outputs\n",
    "\n",
    "def format_name(f_name, l_name):\n",
    "    if f_name == \"\" or l_name == \"\":\n",
    "        return \"You didn't provide valid inputs\"\n",
    "    formated_f_name = f_name.title()\n",
    "    formated_l_name = l_name.title()\n",
    "    return f\"{formated_f_name} {formated_l_name}\"\n",
    "\n",
    "formated_string = format_name(\"\",\"YU\")\n",
    "print(formated_string)"
   ]
  },
  {
   "cell_type": "code",
   "execution_count": null,
   "id": "99721592",
   "metadata": {
    "papermill": {
     "duration": 0.001881,
     "end_time": "2022-07-24T22:59:17.895598",
     "exception": false,
     "start_time": "2022-07-24T22:59:17.893717",
     "status": "completed"
    },
    "tags": []
   },
   "outputs": [],
   "source": []
  }
 ],
 "metadata": {
  "kernelspec": {
   "display_name": "Python 3",
   "language": "python",
   "name": "python3"
  },
  "language_info": {
   "codemirror_mode": {
    "name": "ipython",
    "version": 3
   },
   "file_extension": ".py",
   "mimetype": "text/x-python",
   "name": "python",
   "nbconvert_exporter": "python",
   "pygments_lexer": "ipython3",
   "version": "3.7.12"
  },
  "papermill": {
   "default_parameters": {},
   "duration": 10.137962,
   "end_time": "2022-07-24T22:59:18.521847",
   "environment_variables": {},
   "exception": null,
   "input_path": "__notebook__.ipynb",
   "output_path": "__notebook__.ipynb",
   "parameters": {},
   "start_time": "2022-07-24T22:59:08.383885",
   "version": "2.3.4"
  }
 },
 "nbformat": 4,
 "nbformat_minor": 5
}
