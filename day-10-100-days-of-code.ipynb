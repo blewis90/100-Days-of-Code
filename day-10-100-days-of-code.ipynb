{
 "cells": [
  {
   "cell_type": "code",
   "execution_count": 1,
   "id": "5585d92f",
   "metadata": {
    "_cell_guid": "b1076dfc-b9ad-4769-8c92-a6c4dae69d19",
    "_uuid": "8f2839f25d086af736a60e9eeb907d3b93b6e0e5",
    "execution": {
     "iopub.execute_input": "2022-07-25T16:52:18.650727Z",
     "iopub.status.busy": "2022-07-25T16:52:18.650287Z",
     "iopub.status.idle": "2022-07-25T16:52:18.663839Z",
     "shell.execute_reply": "2022-07-25T16:52:18.663005Z"
    },
    "papermill": {
     "duration": 0.020447,
     "end_time": "2022-07-25T16:52:18.665915",
     "exception": false,
     "start_time": "2022-07-25T16:52:18.645468",
     "status": "completed"
    },
    "tags": []
   },
   "outputs": [],
   "source": [
    "# This Python 3 environment comes with many helpful analytics libraries installed\n",
    "# It is defined by the kaggle/python Docker image: https://github.com/kaggle/docker-python\n",
    "# For example, here's several helpful packages to load\n",
    "\n",
    "import numpy as np # linear algebra\n",
    "import pandas as pd # data processing, CSV file I/O (e.g. pd.read_csv)\n",
    "\n",
    "# Input data files are available in the read-only \"../input/\" directory\n",
    "# For example, running this (by clicking run or pressing Shift+Enter) will list all files under the input directory\n",
    "\n",
    "import os\n",
    "for dirname, _, filenames in os.walk('/kaggle/input'):\n",
    "    for filename in filenames:\n",
    "        print(os.path.join(dirname, filename))\n",
    "\n",
    "# You can write up to 20GB to the current directory (/kaggle/working/) that gets preserved as output when you create a version using \"Save & Run All\" \n",
    "# You can also write temporary files to /kaggle/temp/, but they won't be saved outside of the current session"
   ]
  },
  {
   "cell_type": "code",
   "execution_count": 2,
   "id": "3c4c87d5",
   "metadata": {
    "execution": {
     "iopub.execute_input": "2022-07-25T16:52:18.672647Z",
     "iopub.status.busy": "2022-07-25T16:52:18.672044Z",
     "iopub.status.idle": "2022-07-25T16:52:18.676242Z",
     "shell.execute_reply": "2022-07-25T16:52:18.675502Z"
    },
    "papermill": {
     "duration": 0.009667,
     "end_time": "2022-07-25T16:52:18.678170",
     "exception": false,
     "start_time": "2022-07-25T16:52:18.668503",
     "status": "completed"
    },
    "tags": []
   },
   "outputs": [],
   "source": [
    "def my_function():\n",
    "    result = 3 * 2\n",
    "    return result\n",
    "\n",
    "output = my_function()"
   ]
  },
  {
   "cell_type": "code",
   "execution_count": 3,
   "id": "cde2fb5c",
   "metadata": {
    "execution": {
     "iopub.execute_input": "2022-07-25T16:52:18.684923Z",
     "iopub.status.busy": "2022-07-25T16:52:18.684288Z",
     "iopub.status.idle": "2022-07-25T16:52:18.689169Z",
     "shell.execute_reply": "2022-07-25T16:52:18.688328Z"
    },
    "papermill": {
     "duration": 0.010787,
     "end_time": "2022-07-25T16:52:18.691411",
     "exception": false,
     "start_time": "2022-07-25T16:52:18.680624",
     "status": "completed"
    },
    "tags": []
   },
   "outputs": [
    {
     "name": "stdout",
     "output_type": "stream",
     "text": [
      "6\n"
     ]
    }
   ],
   "source": [
    "print(output)"
   ]
  },
  {
   "cell_type": "code",
   "execution_count": 4,
   "id": "ac333899",
   "metadata": {
    "execution": {
     "iopub.execute_input": "2022-07-25T16:52:18.698225Z",
     "iopub.status.busy": "2022-07-25T16:52:18.697778Z",
     "iopub.status.idle": "2022-07-25T16:52:18.704818Z",
     "shell.execute_reply": "2022-07-25T16:52:18.703481Z"
    },
    "papermill": {
     "duration": 0.01362,
     "end_time": "2022-07-25T16:52:18.707523",
     "exception": false,
     "start_time": "2022-07-25T16:52:18.693903",
     "status": "completed"
    },
    "tags": []
   },
   "outputs": [
    {
     "name": "stdout",
     "output_type": "stream",
     "text": [
      "You didn't provide valid inputs\n"
     ]
    }
   ],
   "source": [
    "#functions with outputs\n",
    "\n",
    "def format_name(f_name, l_name):\n",
    "    if f_name == \"\" or l_name == \"\":\n",
    "        return \"You didn't provide valid inputs\"\n",
    "    formated_f_name = f_name.title()\n",
    "    formated_l_name = l_name.title()\n",
    "    return f\"{formated_f_name} {formated_l_name}\"\n",
    "\n",
    "formated_string = format_name(\"\",\"YU\")\n",
    "print(formated_string)"
   ]
  },
  {
   "cell_type": "code",
   "execution_count": null,
   "id": "361b9bd1",
   "metadata": {
    "papermill": {
     "duration": 0.002382,
     "end_time": "2022-07-25T16:52:18.712387",
     "exception": false,
     "start_time": "2022-07-25T16:52:18.710005",
     "status": "completed"
    },
    "tags": []
   },
   "outputs": [],
   "source": []
  }
 ],
 "metadata": {
  "kernelspec": {
   "display_name": "Python 3",
   "language": "python",
   "name": "python3"
  },
  "language_info": {
   "codemirror_mode": {
    "name": "ipython",
    "version": 3
   },
   "file_extension": ".py",
   "mimetype": "text/x-python",
   "name": "python",
   "nbconvert_exporter": "python",
   "pygments_lexer": "ipython3",
   "version": "3.7.12"
  },
  "papermill": {
   "default_parameters": {},
   "duration": 10.260936,
   "end_time": "2022-07-25T16:52:19.336277",
   "environment_variables": {},
   "exception": null,
   "input_path": "__notebook__.ipynb",
   "output_path": "__notebook__.ipynb",
   "parameters": {},
   "start_time": "2022-07-25T16:52:09.075341",
   "version": "2.3.4"
  }
 },
 "nbformat": 4,
 "nbformat_minor": 5
}
