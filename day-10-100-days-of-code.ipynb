{
 "cells": [
  {
   "cell_type": "code",
   "execution_count": 1,
   "id": "2b2f3ff9",
   "metadata": {
    "_cell_guid": "b1076dfc-b9ad-4769-8c92-a6c4dae69d19",
    "_uuid": "8f2839f25d086af736a60e9eeb907d3b93b6e0e5",
    "execution": {
     "iopub.execute_input": "2022-07-21T14:30:29.122954Z",
     "iopub.status.busy": "2022-07-21T14:30:29.122510Z",
     "iopub.status.idle": "2022-07-21T14:30:29.136756Z",
     "shell.execute_reply": "2022-07-21T14:30:29.135568Z"
    },
    "papermill": {
     "duration": 0.022395,
     "end_time": "2022-07-21T14:30:29.139666",
     "exception": false,
     "start_time": "2022-07-21T14:30:29.117271",
     "status": "completed"
    },
    "tags": []
   },
   "outputs": [],
   "source": [
    "# This Python 3 environment comes with many helpful analytics libraries installed\n",
    "# It is defined by the kaggle/python Docker image: https://github.com/kaggle/docker-python\n",
    "# For example, here's several helpful packages to load\n",
    "\n",
    "import numpy as np # linear algebra\n",
    "import pandas as pd # data processing, CSV file I/O (e.g. pd.read_csv)\n",
    "\n",
    "# Input data files are available in the read-only \"../input/\" directory\n",
    "# For example, running this (by clicking run or pressing Shift+Enter) will list all files under the input directory\n",
    "\n",
    "import os\n",
    "for dirname, _, filenames in os.walk('/kaggle/input'):\n",
    "    for filename in filenames:\n",
    "        print(os.path.join(dirname, filename))\n",
    "\n",
    "# You can write up to 20GB to the current directory (/kaggle/working/) that gets preserved as output when you create a version using \"Save & Run All\" \n",
    "# You can also write temporary files to /kaggle/temp/, but they won't be saved outside of the current session"
   ]
  },
  {
   "cell_type": "code",
   "execution_count": 2,
   "id": "bc76b42b",
   "metadata": {
    "execution": {
     "iopub.execute_input": "2022-07-21T14:30:29.146461Z",
     "iopub.status.busy": "2022-07-21T14:30:29.146116Z",
     "iopub.status.idle": "2022-07-21T14:30:29.151102Z",
     "shell.execute_reply": "2022-07-21T14:30:29.149943Z"
    },
    "papermill": {
     "duration": 0.010923,
     "end_time": "2022-07-21T14:30:29.153297",
     "exception": false,
     "start_time": "2022-07-21T14:30:29.142374",
     "status": "completed"
    },
    "tags": []
   },
   "outputs": [],
   "source": [
    "def my_function():\n",
    "    result = 3 * 2\n",
    "    return result\n",
    "\n",
    "output = my_function()"
   ]
  },
  {
   "cell_type": "code",
   "execution_count": 3,
   "id": "5695f236",
   "metadata": {
    "execution": {
     "iopub.execute_input": "2022-07-21T14:30:29.160121Z",
     "iopub.status.busy": "2022-07-21T14:30:29.159693Z",
     "iopub.status.idle": "2022-07-21T14:30:29.164732Z",
     "shell.execute_reply": "2022-07-21T14:30:29.163847Z"
    },
    "papermill": {
     "duration": 0.01229,
     "end_time": "2022-07-21T14:30:29.168101",
     "exception": false,
     "start_time": "2022-07-21T14:30:29.155811",
     "status": "completed"
    },
    "tags": []
   },
   "outputs": [
    {
     "name": "stdout",
     "output_type": "stream",
     "text": [
      "6\n"
     ]
    }
   ],
   "source": [
    "print(output)"
   ]
  },
  {
   "cell_type": "code",
   "execution_count": 4,
   "id": "e14f01ff",
   "metadata": {
    "execution": {
     "iopub.execute_input": "2022-07-21T14:30:29.174843Z",
     "iopub.status.busy": "2022-07-21T14:30:29.174482Z",
     "iopub.status.idle": "2022-07-21T14:30:29.181173Z",
     "shell.execute_reply": "2022-07-21T14:30:29.180010Z"
    },
    "papermill": {
     "duration": 0.013838,
     "end_time": "2022-07-21T14:30:29.184478",
     "exception": false,
     "start_time": "2022-07-21T14:30:29.170640",
     "status": "completed"
    },
    "tags": []
   },
   "outputs": [
    {
     "name": "stdout",
     "output_type": "stream",
     "text": [
      "You didn't provide valid inputs\n"
     ]
    }
   ],
   "source": [
    "#functions with outputs\n",
    "\n",
    "def format_name(f_name, l_name):\n",
    "    if f_name == \"\" or l_name == \"\":\n",
    "        return \"You didn't provide valid inputs\"\n",
    "    formated_f_name = f_name.title()\n",
    "    formated_l_name = l_name.title()\n",
    "    return f\"{formated_f_name} {formated_l_name}\"\n",
    "\n",
    "formated_string = format_name(\"\",\"YU\")\n",
    "print(formated_string)"
   ]
  },
  {
   "cell_type": "code",
   "execution_count": null,
   "id": "a4d2d6ce",
   "metadata": {
    "papermill": {
     "duration": 0.002491,
     "end_time": "2022-07-21T14:30:29.190392",
     "exception": false,
     "start_time": "2022-07-21T14:30:29.187901",
     "status": "completed"
    },
    "tags": []
   },
   "outputs": [],
   "source": []
  }
 ],
 "metadata": {
  "kernelspec": {
   "display_name": "Python 3",
   "language": "python",
   "name": "python3"
  },
  "language_info": {
   "codemirror_mode": {
    "name": "ipython",
    "version": 3
   },
   "file_extension": ".py",
   "mimetype": "text/x-python",
   "name": "python",
   "nbconvert_exporter": "python",
   "pygments_lexer": "ipython3",
   "version": "3.7.12"
  },
  "papermill": {
   "default_parameters": {},
   "duration": 11.382655,
   "end_time": "2022-07-21T14:30:29.817138",
   "environment_variables": {},
   "exception": null,
   "input_path": "__notebook__.ipynb",
   "output_path": "__notebook__.ipynb",
   "parameters": {},
   "start_time": "2022-07-21T14:30:18.434483",
   "version": "2.3.4"
  }
 },
 "nbformat": 4,
 "nbformat_minor": 5
}
