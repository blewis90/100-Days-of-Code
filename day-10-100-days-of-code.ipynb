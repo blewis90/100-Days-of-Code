{
 "cells": [
  {
   "cell_type": "code",
   "execution_count": 1,
   "id": "f59d6709",
   "metadata": {
    "_cell_guid": "b1076dfc-b9ad-4769-8c92-a6c4dae69d19",
    "_uuid": "8f2839f25d086af736a60e9eeb907d3b93b6e0e5",
    "execution": {
     "iopub.execute_input": "2022-07-25T13:13:01.823045Z",
     "iopub.status.busy": "2022-07-25T13:13:01.822161Z",
     "iopub.status.idle": "2022-07-25T13:13:01.842835Z",
     "shell.execute_reply": "2022-07-25T13:13:01.841424Z"
    },
    "papermill": {
     "duration": 0.029277,
     "end_time": "2022-07-25T13:13:01.845831",
     "exception": false,
     "start_time": "2022-07-25T13:13:01.816554",
     "status": "completed"
    },
    "tags": []
   },
   "outputs": [],
   "source": [
    "# This Python 3 environment comes with many helpful analytics libraries installed\n",
    "# It is defined by the kaggle/python Docker image: https://github.com/kaggle/docker-python\n",
    "# For example, here's several helpful packages to load\n",
    "\n",
    "import numpy as np # linear algebra\n",
    "import pandas as pd # data processing, CSV file I/O (e.g. pd.read_csv)\n",
    "\n",
    "# Input data files are available in the read-only \"../input/\" directory\n",
    "# For example, running this (by clicking run or pressing Shift+Enter) will list all files under the input directory\n",
    "\n",
    "import os\n",
    "for dirname, _, filenames in os.walk('/kaggle/input'):\n",
    "    for filename in filenames:\n",
    "        print(os.path.join(dirname, filename))\n",
    "\n",
    "# You can write up to 20GB to the current directory (/kaggle/working/) that gets preserved as output when you create a version using \"Save & Run All\" \n",
    "# You can also write temporary files to /kaggle/temp/, but they won't be saved outside of the current session"
   ]
  },
  {
   "cell_type": "code",
   "execution_count": 2,
   "id": "c4e16d16",
   "metadata": {
    "execution": {
     "iopub.execute_input": "2022-07-25T13:13:01.853278Z",
     "iopub.status.busy": "2022-07-25T13:13:01.852601Z",
     "iopub.status.idle": "2022-07-25T13:13:01.858180Z",
     "shell.execute_reply": "2022-07-25T13:13:01.856811Z"
    },
    "papermill": {
     "duration": 0.012575,
     "end_time": "2022-07-25T13:13:01.861158",
     "exception": false,
     "start_time": "2022-07-25T13:13:01.848583",
     "status": "completed"
    },
    "tags": []
   },
   "outputs": [],
   "source": [
    "def my_function():\n",
    "    result = 3 * 2\n",
    "    return result\n",
    "\n",
    "output = my_function()"
   ]
  },
  {
   "cell_type": "code",
   "execution_count": 3,
   "id": "7ae5c836",
   "metadata": {
    "execution": {
     "iopub.execute_input": "2022-07-25T13:13:01.868361Z",
     "iopub.status.busy": "2022-07-25T13:13:01.867942Z",
     "iopub.status.idle": "2022-07-25T13:13:01.873460Z",
     "shell.execute_reply": "2022-07-25T13:13:01.872386Z"
    },
    "papermill": {
     "duration": 0.01462,
     "end_time": "2022-07-25T13:13:01.878488",
     "exception": false,
     "start_time": "2022-07-25T13:13:01.863868",
     "status": "completed"
    },
    "tags": []
   },
   "outputs": [
    {
     "name": "stdout",
     "output_type": "stream",
     "text": [
      "6\n"
     ]
    }
   ],
   "source": [
    "print(output)"
   ]
  },
  {
   "cell_type": "code",
   "execution_count": 4,
   "id": "c8d96c3e",
   "metadata": {
    "execution": {
     "iopub.execute_input": "2022-07-25T13:13:01.888061Z",
     "iopub.status.busy": "2022-07-25T13:13:01.886770Z",
     "iopub.status.idle": "2022-07-25T13:13:01.895614Z",
     "shell.execute_reply": "2022-07-25T13:13:01.893977Z"
    },
    "papermill": {
     "duration": 0.016142,
     "end_time": "2022-07-25T13:13:01.898547",
     "exception": false,
     "start_time": "2022-07-25T13:13:01.882405",
     "status": "completed"
    },
    "tags": []
   },
   "outputs": [
    {
     "name": "stdout",
     "output_type": "stream",
     "text": [
      "You didn't provide valid inputs\n"
     ]
    }
   ],
   "source": [
    "#functions with outputs\n",
    "\n",
    "def format_name(f_name, l_name):\n",
    "    if f_name == \"\" or l_name == \"\":\n",
    "        return \"You didn't provide valid inputs\"\n",
    "    formated_f_name = f_name.title()\n",
    "    formated_l_name = l_name.title()\n",
    "    return f\"{formated_f_name} {formated_l_name}\"\n",
    "\n",
    "formated_string = format_name(\"\",\"YU\")\n",
    "print(formated_string)"
   ]
  },
  {
   "cell_type": "code",
   "execution_count": null,
   "id": "78c2d381",
   "metadata": {
    "papermill": {
     "duration": 0.002794,
     "end_time": "2022-07-25T13:13:01.904083",
     "exception": false,
     "start_time": "2022-07-25T13:13:01.901289",
     "status": "completed"
    },
    "tags": []
   },
   "outputs": [],
   "source": []
  }
 ],
 "metadata": {
  "kernelspec": {
   "display_name": "Python 3",
   "language": "python",
   "name": "python3"
  },
  "language_info": {
   "codemirror_mode": {
    "name": "ipython",
    "version": 3
   },
   "file_extension": ".py",
   "mimetype": "text/x-python",
   "name": "python",
   "nbconvert_exporter": "python",
   "pygments_lexer": "ipython3",
   "version": "3.7.12"
  },
  "papermill": {
   "default_parameters": {},
   "duration": 11.031046,
   "end_time": "2022-07-25T13:13:02.529169",
   "environment_variables": {},
   "exception": null,
   "input_path": "__notebook__.ipynb",
   "output_path": "__notebook__.ipynb",
   "parameters": {},
   "start_time": "2022-07-25T13:12:51.498123",
   "version": "2.3.4"
  }
 },
 "nbformat": 4,
 "nbformat_minor": 5
}
