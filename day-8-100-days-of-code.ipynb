{
 "cells": [
  {
   "cell_type": "code",
   "execution_count": 1,
   "id": "d052c994",
   "metadata": {
    "_cell_guid": "b1076dfc-b9ad-4769-8c92-a6c4dae69d19",
    "_uuid": "8f2839f25d086af736a60e9eeb907d3b93b6e0e5",
    "execution": {
     "iopub.execute_input": "2022-06-14T20:21:58.669615Z",
     "iopub.status.busy": "2022-06-14T20:21:58.669113Z",
     "iopub.status.idle": "2022-06-14T20:21:58.681248Z",
     "shell.execute_reply": "2022-06-14T20:21:58.680539Z"
    },
    "papermill": {
     "duration": 0.019779,
     "end_time": "2022-06-14T20:21:58.683578",
     "exception": false,
     "start_time": "2022-06-14T20:21:58.663799",
     "status": "completed"
    },
    "tags": []
   },
   "outputs": [],
   "source": [
    "# This Python 3 environment comes with many helpful analytics libraries installed\n",
    "# It is defined by the kaggle/python Docker image: https://github.com/kaggle/docker-python\n",
    "# For example, here's several helpful packages to load\n",
    "\n",
    "import numpy as np # linear algebra\n",
    "import pandas as pd # data processing, CSV file I/O (e.g. pd.read_csv)\n",
    "\n",
    "# Input data files are available in the read-only \"../input/\" directory\n",
    "# For example, running this (by clicking run or pressing Shift+Enter) will list all files under the input directory\n",
    "\n",
    "import os\n",
    "for dirname, _, filenames in os.walk('/kaggle/input'):\n",
    "    for filename in filenames:\n",
    "        print(os.path.join(dirname, filename))\n",
    "\n",
    "# You can write up to 20GB to the current directory (/kaggle/working/) that gets preserved as output when you create a version using \"Save & Run All\" \n",
    "# You can also write temporary files to /kaggle/temp/, but they won't be saved outside of the current session"
   ]
  },
  {
   "cell_type": "code",
   "execution_count": 2,
   "id": "180dba6b",
   "metadata": {
    "execution": {
     "iopub.execute_input": "2022-06-14T20:21:58.693169Z",
     "iopub.status.busy": "2022-06-14T20:21:58.692798Z",
     "iopub.status.idle": "2022-06-14T20:21:58.697304Z",
     "shell.execute_reply": "2022-06-14T20:21:58.696486Z"
    },
    "papermill": {
     "duration": 0.010288,
     "end_time": "2022-06-14T20:21:58.699277",
     "exception": false,
     "start_time": "2022-06-14T20:21:58.688989",
     "status": "completed"
    },
    "tags": []
   },
   "outputs": [],
   "source": [
    "ceasar_code = 'ceasar'\n",
    "\n",
    "def myprint():\n",
    "    print(\"1\")\n",
    "    print(\"2\")\n",
    "    print(\"3\")"
   ]
  },
  {
   "cell_type": "code",
   "execution_count": 3,
   "id": "a6dd27d5",
   "metadata": {
    "execution": {
     "iopub.execute_input": "2022-06-14T20:21:58.705926Z",
     "iopub.status.busy": "2022-06-14T20:21:58.705553Z",
     "iopub.status.idle": "2022-06-14T20:21:58.709968Z",
     "shell.execute_reply": "2022-06-14T20:21:58.709295Z"
    },
    "papermill": {
     "duration": 0.011005,
     "end_time": "2022-06-14T20:21:58.712906",
     "exception": false,
     "start_time": "2022-06-14T20:21:58.701901",
     "status": "completed"
    },
    "tags": []
   },
   "outputs": [
    {
     "name": "stdout",
     "output_type": "stream",
     "text": [
      "1\n",
      "2\n",
      "3\n"
     ]
    }
   ],
   "source": [
    "myprint()"
   ]
  },
  {
   "cell_type": "code",
   "execution_count": 4,
   "id": "af9f4030",
   "metadata": {
    "execution": {
     "iopub.execute_input": "2022-06-14T20:21:58.721327Z",
     "iopub.status.busy": "2022-06-14T20:21:58.720951Z",
     "iopub.status.idle": "2022-06-14T20:21:58.726595Z",
     "shell.execute_reply": "2022-06-14T20:21:58.725488Z"
    },
    "papermill": {
     "duration": 0.011453,
     "end_time": "2022-06-14T20:21:58.728521",
     "exception": false,
     "start_time": "2022-06-14T20:21:58.717068",
     "status": "completed"
    },
    "tags": []
   },
   "outputs": [
    {
     "name": "stdout",
     "output_type": "stream",
     "text": [
      "Hello Ben\n",
      "How do you do Ben?\n"
     ]
    }
   ],
   "source": [
    "#Function that allows for input\n",
    "\n",
    "def greet_with_name(name):\n",
    "    print(f\"Hello {name}\")\n",
    "    print(f\"How do you do {name}?\")\n",
    "    \n",
    "greet_with_name(\"Ben\")"
   ]
  },
  {
   "cell_type": "code",
   "execution_count": 5,
   "id": "aeebc227",
   "metadata": {
    "execution": {
     "iopub.execute_input": "2022-06-14T20:21:58.735540Z",
     "iopub.status.busy": "2022-06-14T20:21:58.735159Z",
     "iopub.status.idle": "2022-06-14T20:21:58.739627Z",
     "shell.execute_reply": "2022-06-14T20:21:58.738778Z"
    },
    "papermill": {
     "duration": 0.010523,
     "end_time": "2022-06-14T20:21:58.741766",
     "exception": false,
     "start_time": "2022-06-14T20:21:58.731243",
     "status": "completed"
    },
    "tags": []
   },
   "outputs": [
    {
     "name": "stdout",
     "output_type": "stream",
     "text": [
      "Hello Billie\n",
      "How do you do Billie?\n"
     ]
    }
   ],
   "source": [
    "greet_with_name(\"Billie\")"
   ]
  },
  {
   "cell_type": "code",
   "execution_count": null,
   "id": "7333b807",
   "metadata": {
    "papermill": {
     "duration": 0.002755,
     "end_time": "2022-06-14T20:21:58.749822",
     "exception": false,
     "start_time": "2022-06-14T20:21:58.747067",
     "status": "completed"
    },
    "tags": []
   },
   "outputs": [],
   "source": []
  }
 ],
 "metadata": {
  "kernelspec": {
   "display_name": "Python 3",
   "language": "python",
   "name": "python3"
  },
  "language_info": {
   "codemirror_mode": {
    "name": "ipython",
    "version": 3
   },
   "file_extension": ".py",
   "mimetype": "text/x-python",
   "name": "python",
   "nbconvert_exporter": "python",
   "pygments_lexer": "ipython3",
   "version": "3.7.12"
  },
  "papermill": {
   "default_parameters": {},
   "duration": 10.49334,
   "end_time": "2022-06-14T20:21:59.373504",
   "environment_variables": {},
   "exception": null,
   "input_path": "__notebook__.ipynb",
   "output_path": "__notebook__.ipynb",
   "parameters": {},
   "start_time": "2022-06-14T20:21:48.880164",
   "version": "2.3.4"
  }
 },
 "nbformat": 4,
 "nbformat_minor": 5
}
