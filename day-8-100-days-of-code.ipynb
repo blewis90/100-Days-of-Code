{
 "cells": [
  {
   "cell_type": "code",
   "execution_count": 1,
   "id": "d53e277c",
   "metadata": {
    "_cell_guid": "b1076dfc-b9ad-4769-8c92-a6c4dae69d19",
    "_uuid": "8f2839f25d086af736a60e9eeb907d3b93b6e0e5",
    "execution": {
     "iopub.execute_input": "2022-06-14T20:15:21.617947Z",
     "iopub.status.busy": "2022-06-14T20:15:21.617156Z",
     "iopub.status.idle": "2022-06-14T20:15:21.631303Z",
     "shell.execute_reply": "2022-06-14T20:15:21.630551Z"
    },
    "papermill": {
     "duration": 0.022079,
     "end_time": "2022-06-14T20:15:21.633923",
     "exception": false,
     "start_time": "2022-06-14T20:15:21.611844",
     "status": "completed"
    },
    "tags": []
   },
   "outputs": [],
   "source": [
    "# This Python 3 environment comes with many helpful analytics libraries installed\n",
    "# It is defined by the kaggle/python Docker image: https://github.com/kaggle/docker-python\n",
    "# For example, here's several helpful packages to load\n",
    "\n",
    "import numpy as np # linear algebra\n",
    "import pandas as pd # data processing, CSV file I/O (e.g. pd.read_csv)\n",
    "\n",
    "# Input data files are available in the read-only \"../input/\" directory\n",
    "# For example, running this (by clicking run or pressing Shift+Enter) will list all files under the input directory\n",
    "\n",
    "import os\n",
    "for dirname, _, filenames in os.walk('/kaggle/input'):\n",
    "    for filename in filenames:\n",
    "        print(os.path.join(dirname, filename))\n",
    "\n",
    "# You can write up to 20GB to the current directory (/kaggle/working/) that gets preserved as output when you create a version using \"Save & Run All\" \n",
    "# You can also write temporary files to /kaggle/temp/, but they won't be saved outside of the current session"
   ]
  },
  {
   "cell_type": "code",
   "execution_count": 2,
   "id": "be21e1a8",
   "metadata": {
    "execution": {
     "iopub.execute_input": "2022-06-14T20:15:21.640768Z",
     "iopub.status.busy": "2022-06-14T20:15:21.640191Z",
     "iopub.status.idle": "2022-06-14T20:15:21.644604Z",
     "shell.execute_reply": "2022-06-14T20:15:21.643620Z"
    },
    "papermill": {
     "duration": 0.01007,
     "end_time": "2022-06-14T20:15:21.646754",
     "exception": false,
     "start_time": "2022-06-14T20:15:21.636684",
     "status": "completed"
    },
    "tags": []
   },
   "outputs": [],
   "source": [
    "ceasar_code = 'ceasar'\n",
    "\n",
    "def myprint():\n",
    "    print(\"1\")\n",
    "    print(\"2\")\n",
    "    print(\"3\")"
   ]
  },
  {
   "cell_type": "code",
   "execution_count": 3,
   "id": "68d4f32f",
   "metadata": {
    "execution": {
     "iopub.execute_input": "2022-06-14T20:15:21.652878Z",
     "iopub.status.busy": "2022-06-14T20:15:21.652540Z",
     "iopub.status.idle": "2022-06-14T20:15:21.657841Z",
     "shell.execute_reply": "2022-06-14T20:15:21.656737Z"
    },
    "papermill": {
     "duration": 0.011925,
     "end_time": "2022-06-14T20:15:21.661163",
     "exception": false,
     "start_time": "2022-06-14T20:15:21.649238",
     "status": "completed"
    },
    "tags": []
   },
   "outputs": [
    {
     "name": "stdout",
     "output_type": "stream",
     "text": [
      "1\n",
      "2\n",
      "3\n"
     ]
    }
   ],
   "source": [
    "myprint()"
   ]
  },
  {
   "cell_type": "code",
   "execution_count": null,
   "id": "724e23d4",
   "metadata": {
    "papermill": {
     "duration": 0.002248,
     "end_time": "2022-06-14T20:15:21.666672",
     "exception": false,
     "start_time": "2022-06-14T20:15:21.664424",
     "status": "completed"
    },
    "tags": []
   },
   "outputs": [],
   "source": []
  }
 ],
 "metadata": {
  "kernelspec": {
   "display_name": "Python 3",
   "language": "python",
   "name": "python3"
  },
  "language_info": {
   "codemirror_mode": {
    "name": "ipython",
    "version": 3
   },
   "file_extension": ".py",
   "mimetype": "text/x-python",
   "name": "python",
   "nbconvert_exporter": "python",
   "pygments_lexer": "ipython3",
   "version": "3.7.12"
  },
  "papermill": {
   "default_parameters": {},
   "duration": 11.864561,
   "end_time": "2022-06-14T20:15:22.390875",
   "environment_variables": {},
   "exception": null,
   "input_path": "__notebook__.ipynb",
   "output_path": "__notebook__.ipynb",
   "parameters": {},
   "start_time": "2022-06-14T20:15:10.526314",
   "version": "2.3.4"
  }
 },
 "nbformat": 4,
 "nbformat_minor": 5
}
