{
 "cells": [
  {
   "cell_type": "code",
   "execution_count": 1,
   "id": "827f1575",
   "metadata": {
    "_cell_guid": "b1076dfc-b9ad-4769-8c92-a6c4dae69d19",
    "_uuid": "8f2839f25d086af736a60e9eeb907d3b93b6e0e5",
    "execution": {
     "iopub.execute_input": "2022-06-15T20:00:01.416027Z",
     "iopub.status.busy": "2022-06-15T20:00:01.414671Z",
     "iopub.status.idle": "2022-06-15T20:00:01.428704Z",
     "shell.execute_reply": "2022-06-15T20:00:01.427840Z"
    },
    "papermill": {
     "duration": 0.024464,
     "end_time": "2022-06-15T20:00:01.431575",
     "exception": false,
     "start_time": "2022-06-15T20:00:01.407111",
     "status": "completed"
    },
    "tags": []
   },
   "outputs": [],
   "source": [
    "# This Python 3 environment comes with many helpful analytics libraries installed\n",
    "# It is defined by the kaggle/python Docker image: https://github.com/kaggle/docker-python\n",
    "# For example, here's several helpful packages to load\n",
    "\n",
    "import numpy as np # linear algebra\n",
    "import pandas as pd # data processing, CSV file I/O (e.g. pd.read_csv)\n",
    "\n",
    "# Input data files are available in the read-only \"../input/\" directory\n",
    "# For example, running this (by clicking run or pressing Shift+Enter) will list all files under the input directory\n",
    "\n",
    "import os\n",
    "for dirname, _, filenames in os.walk('/kaggle/input'):\n",
    "    for filename in filenames:\n",
    "        print(os.path.join(dirname, filename))\n",
    "\n",
    "# You can write up to 20GB to the current directory (/kaggle/working/) that gets preserved as output when you create a version using \"Save & Run All\" \n",
    "# You can also write temporary files to /kaggle/temp/, but they won't be saved outside of the current session"
   ]
  },
  {
   "cell_type": "code",
   "execution_count": 2,
   "id": "ccba8668",
   "metadata": {
    "execution": {
     "iopub.execute_input": "2022-06-15T20:00:01.445827Z",
     "iopub.status.busy": "2022-06-15T20:00:01.445091Z",
     "iopub.status.idle": "2022-06-15T20:00:01.450173Z",
     "shell.execute_reply": "2022-06-15T20:00:01.449346Z"
    },
    "papermill": {
     "duration": 0.013276,
     "end_time": "2022-06-15T20:00:01.452336",
     "exception": false,
     "start_time": "2022-06-15T20:00:01.439060",
     "status": "completed"
    },
    "tags": []
   },
   "outputs": [],
   "source": [
    "ceasar_code = 'ceasar'\n",
    "\n",
    "def myprint():\n",
    "    print(\"1\")\n",
    "    print(\"2\")\n",
    "    print(\"3\")"
   ]
  },
  {
   "cell_type": "code",
   "execution_count": 3,
   "id": "e061bf5f",
   "metadata": {
    "execution": {
     "iopub.execute_input": "2022-06-15T20:00:01.463933Z",
     "iopub.status.busy": "2022-06-15T20:00:01.463163Z",
     "iopub.status.idle": "2022-06-15T20:00:01.468669Z",
     "shell.execute_reply": "2022-06-15T20:00:01.467675Z"
    },
    "papermill": {
     "duration": 0.014261,
     "end_time": "2022-06-15T20:00:01.471456",
     "exception": false,
     "start_time": "2022-06-15T20:00:01.457195",
     "status": "completed"
    },
    "tags": []
   },
   "outputs": [
    {
     "name": "stdout",
     "output_type": "stream",
     "text": [
      "1\n",
      "2\n",
      "3\n"
     ]
    }
   ],
   "source": [
    "myprint()"
   ]
  },
  {
   "cell_type": "code",
   "execution_count": 4,
   "id": "2e8c9bca",
   "metadata": {
    "execution": {
     "iopub.execute_input": "2022-06-15T20:00:01.483705Z",
     "iopub.status.busy": "2022-06-15T20:00:01.483090Z",
     "iopub.status.idle": "2022-06-15T20:00:01.489506Z",
     "shell.execute_reply": "2022-06-15T20:00:01.487930Z"
    },
    "papermill": {
     "duration": 0.014587,
     "end_time": "2022-06-15T20:00:01.491762",
     "exception": false,
     "start_time": "2022-06-15T20:00:01.477175",
     "status": "completed"
    },
    "tags": []
   },
   "outputs": [
    {
     "name": "stdout",
     "output_type": "stream",
     "text": [
      "Hello Ben\n",
      "How do you do Ben?\n"
     ]
    }
   ],
   "source": [
    "#Function that allows for input\n",
    "\n",
    "def greet_with_name(name):\n",
    "    print(f\"Hello {name}\")\n",
    "    print(f\"How do you do {name}?\")\n",
    "    \n",
    "greet_with_name(\"Ben\")"
   ]
  },
  {
   "cell_type": "code",
   "execution_count": 5,
   "id": "fb034171",
   "metadata": {
    "execution": {
     "iopub.execute_input": "2022-06-15T20:00:01.502414Z",
     "iopub.status.busy": "2022-06-15T20:00:01.501377Z",
     "iopub.status.idle": "2022-06-15T20:00:01.507783Z",
     "shell.execute_reply": "2022-06-15T20:00:01.506457Z"
    },
    "papermill": {
     "duration": 0.014055,
     "end_time": "2022-06-15T20:00:01.510045",
     "exception": false,
     "start_time": "2022-06-15T20:00:01.495990",
     "status": "completed"
    },
    "tags": []
   },
   "outputs": [
    {
     "name": "stdout",
     "output_type": "stream",
     "text": [
      "Hello Billie\n",
      "How do you do Billie?\n"
     ]
    }
   ],
   "source": [
    "greet_with_name(\"Billie\")"
   ]
  },
  {
   "cell_type": "code",
   "execution_count": 6,
   "id": "45e56542",
   "metadata": {
    "execution": {
     "iopub.execute_input": "2022-06-15T20:00:01.520391Z",
     "iopub.status.busy": "2022-06-15T20:00:01.519732Z",
     "iopub.status.idle": "2022-06-15T20:00:01.524568Z",
     "shell.execute_reply": "2022-06-15T20:00:01.523606Z"
    },
    "papermill": {
     "duration": 0.012804,
     "end_time": "2022-06-15T20:00:01.527190",
     "exception": false,
     "start_time": "2022-06-15T20:00:01.514386",
     "status": "completed"
    },
    "tags": []
   },
   "outputs": [],
   "source": [
    "#Functions with more than 1 input\n",
    "def greet_with(name, location):\n",
    "    print(f\"Hello {name}\")\n",
    "    print(f\"What is it like in {location}\")\n"
   ]
  },
  {
   "cell_type": "code",
   "execution_count": 7,
   "id": "a342e7ba",
   "metadata": {
    "execution": {
     "iopub.execute_input": "2022-06-15T20:00:01.540183Z",
     "iopub.status.busy": "2022-06-15T20:00:01.539403Z",
     "iopub.status.idle": "2022-06-15T20:00:01.543849Z",
     "shell.execute_reply": "2022-06-15T20:00:01.543177Z"
    },
    "papermill": {
     "duration": 0.013855,
     "end_time": "2022-06-15T20:00:01.546630",
     "exception": false,
     "start_time": "2022-06-15T20:00:01.532775",
     "status": "completed"
    },
    "tags": []
   },
   "outputs": [
    {
     "name": "stdout",
     "output_type": "stream",
     "text": [
      "Hello Ben\n",
      "What is it like in Location\n"
     ]
    }
   ],
   "source": [
    "greet_with(\"Ben\",\"Location\")"
   ]
  },
  {
   "cell_type": "code",
   "execution_count": 8,
   "id": "4c7f8c5b",
   "metadata": {
    "execution": {
     "iopub.execute_input": "2022-06-15T20:00:01.558151Z",
     "iopub.status.busy": "2022-06-15T20:00:01.557357Z",
     "iopub.status.idle": "2022-06-15T20:00:01.561749Z",
     "shell.execute_reply": "2022-06-15T20:00:01.561077Z"
    },
    "papermill": {
     "duration": 0.012084,
     "end_time": "2022-06-15T20:00:01.563871",
     "exception": false,
     "start_time": "2022-06-15T20:00:01.551787",
     "status": "completed"
    },
    "tags": []
   },
   "outputs": [],
   "source": [
    "def greet_with(location,name):\n",
    "    print(f\"Hello {name}\")\n",
    "    print(f\"What is it like in {location}\")"
   ]
  },
  {
   "cell_type": "code",
   "execution_count": 9,
   "id": "a3917e7c",
   "metadata": {
    "execution": {
     "iopub.execute_input": "2022-06-15T20:00:01.574290Z",
     "iopub.status.busy": "2022-06-15T20:00:01.573681Z",
     "iopub.status.idle": "2022-06-15T20:00:01.578423Z",
     "shell.execute_reply": "2022-06-15T20:00:01.577623Z"
    },
    "papermill": {
     "duration": 0.013082,
     "end_time": "2022-06-15T20:00:01.581251",
     "exception": false,
     "start_time": "2022-06-15T20:00:01.568169",
     "status": "completed"
    },
    "tags": []
   },
   "outputs": [
    {
     "name": "stdout",
     "output_type": "stream",
     "text": [
      "Hello Angela\n",
      "What is it like in London\n"
     ]
    }
   ],
   "source": [
    "greet_with(name = \"Angela\", location = \"London\")"
   ]
  },
  {
   "cell_type": "code",
   "execution_count": 10,
   "id": "0819e557",
   "metadata": {
    "execution": {
     "iopub.execute_input": "2022-06-15T20:00:01.593732Z",
     "iopub.status.busy": "2022-06-15T20:00:01.593034Z",
     "iopub.status.idle": "2022-06-15T20:00:01.599022Z",
     "shell.execute_reply": "2022-06-15T20:00:01.597387Z"
    },
    "papermill": {
     "duration": 0.015689,
     "end_time": "2022-06-15T20:00:01.602577",
     "exception": false,
     "start_time": "2022-06-15T20:00:01.586888",
     "status": "completed"
    },
    "tags": []
   },
   "outputs": [
    {
     "name": "stdout",
     "output_type": "stream",
     "text": [
      "2\n"
     ]
    }
   ],
   "source": [
    "import math\n",
    "print(math.ceil(1.4))"
   ]
  },
  {
   "cell_type": "code",
   "execution_count": null,
   "id": "bf2c0f56",
   "metadata": {
    "papermill": {
     "duration": 0.004332,
     "end_time": "2022-06-15T20:00:01.611967",
     "exception": false,
     "start_time": "2022-06-15T20:00:01.607635",
     "status": "completed"
    },
    "tags": []
   },
   "outputs": [],
   "source": []
  }
 ],
 "metadata": {
  "kernelspec": {
   "display_name": "Python 3",
   "language": "python",
   "name": "python3"
  },
  "language_info": {
   "codemirror_mode": {
    "name": "ipython",
    "version": 3
   },
   "file_extension": ".py",
   "mimetype": "text/x-python",
   "name": "python",
   "nbconvert_exporter": "python",
   "pygments_lexer": "ipython3",
   "version": "3.7.12"
  },
  "papermill": {
   "default_parameters": {},
   "duration": 11.269926,
   "end_time": "2022-06-15T20:00:02.439737",
   "environment_variables": {},
   "exception": null,
   "input_path": "__notebook__.ipynb",
   "output_path": "__notebook__.ipynb",
   "parameters": {},
   "start_time": "2022-06-15T19:59:51.169811",
   "version": "2.3.4"
  }
 },
 "nbformat": 4,
 "nbformat_minor": 5
}
