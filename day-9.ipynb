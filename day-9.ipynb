{
 "cells": [
  {
   "cell_type": "code",
   "execution_count": 1,
   "id": "399a0224",
   "metadata": {
    "_cell_guid": "b1076dfc-b9ad-4769-8c92-a6c4dae69d19",
    "_uuid": "8f2839f25d086af736a60e9eeb907d3b93b6e0e5",
    "execution": {
     "iopub.execute_input": "2022-06-21T19:45:41.788232Z",
     "iopub.status.busy": "2022-06-21T19:45:41.787784Z",
     "iopub.status.idle": "2022-06-21T19:45:41.800434Z",
     "shell.execute_reply": "2022-06-21T19:45:41.799409Z"
    },
    "papermill": {
     "duration": 0.02186,
     "end_time": "2022-06-21T19:45:41.803015",
     "exception": false,
     "start_time": "2022-06-21T19:45:41.781155",
     "status": "completed"
    },
    "tags": []
   },
   "outputs": [],
   "source": [
    "# This Python 3 environment comes with many helpful analytics libraries installed\n",
    "# It is defined by the kaggle/python Docker image: https://github.com/kaggle/docker-python\n",
    "# For example, here's several helpful packages to load\n",
    "\n",
    "import numpy as np # linear algebra\n",
    "import pandas as pd # data processing, CSV file I/O (e.g. pd.read_csv)\n",
    "\n",
    "# Input data files are available in the read-only \"../input/\" directory\n",
    "# For example, running this (by clicking run or pressing Shift+Enter) will list all files under the input directory\n",
    "\n",
    "import os\n",
    "for dirname, _, filenames in os.walk('/kaggle/input'):\n",
    "    for filename in filenames:\n",
    "        print(os.path.join(dirname, filename))\n",
    "\n",
    "# You can write up to 20GB to the current directory (/kaggle/working/) that gets preserved as output when you create a version using \"Save & Run All\" \n",
    "# You can also write temporary files to /kaggle/temp/, but they won't be saved outside of the current session"
   ]
  },
  {
   "cell_type": "code",
   "execution_count": 2,
   "id": "8091bb5f",
   "metadata": {
    "execution": {
     "iopub.execute_input": "2022-06-21T19:45:41.815255Z",
     "iopub.status.busy": "2022-06-21T19:45:41.814840Z",
     "iopub.status.idle": "2022-06-21T19:45:41.819263Z",
     "shell.execute_reply": "2022-06-21T19:45:41.818151Z"
    },
    "papermill": {
     "duration": 0.012392,
     "end_time": "2022-06-21T19:45:41.822056",
     "exception": false,
     "start_time": "2022-06-21T19:45:41.809664",
     "status": "completed"
    },
    "tags": []
   },
   "outputs": [],
   "source": [
    "code = \"code\""
   ]
  },
  {
   "cell_type": "code",
   "execution_count": 3,
   "id": "e5e83165",
   "metadata": {
    "execution": {
     "iopub.execute_input": "2022-06-21T19:45:41.831980Z",
     "iopub.status.busy": "2022-06-21T19:45:41.831497Z",
     "iopub.status.idle": "2022-06-21T19:45:41.837684Z",
     "shell.execute_reply": "2022-06-21T19:45:41.836614Z"
    },
    "papermill": {
     "duration": 0.014569,
     "end_time": "2022-06-21T19:45:41.841129",
     "exception": false,
     "start_time": "2022-06-21T19:45:41.826560",
     "status": "completed"
    },
    "tags": []
   },
   "outputs": [
    {
     "name": "stdout",
     "output_type": "stream",
     "text": [
      "{'Bug': 'An error in a program that prevents...', 'Function': 'A piece of code that you can call', 'Loop': 'The action of doing something...'}\n"
     ]
    }
   ],
   "source": [
    "programming_dictionary={\n",
    "    \n",
    "\"Bug\": \"An error in a program that prevents...\",\n",
    "\"Function\": \"A piece of code that you can call\",\n",
    "}\n",
    "\n",
    "\n",
    "programming_dictionary[\"Loop\"] = \"The action of doing something...\"\n",
    "print(programming_dictionary)"
   ]
  },
  {
   "cell_type": "code",
   "execution_count": 4,
   "id": "824b340a",
   "metadata": {
    "execution": {
     "iopub.execute_input": "2022-06-21T19:45:41.850568Z",
     "iopub.status.busy": "2022-06-21T19:45:41.850132Z",
     "iopub.status.idle": "2022-06-21T19:45:41.855095Z",
     "shell.execute_reply": "2022-06-21T19:45:41.853901Z"
    },
    "papermill": {
     "duration": 0.013103,
     "end_time": "2022-06-21T19:45:41.858213",
     "exception": false,
     "start_time": "2022-06-21T19:45:41.845110",
     "status": "completed"
    },
    "tags": []
   },
   "outputs": [
    {
     "name": "stdout",
     "output_type": "stream",
     "text": [
      "{'Bug': 'An error in a program that prevents...', 'Function': 'A piece of code that you can call', 'Loop': 'The action of doing something...'}\n"
     ]
    }
   ],
   "source": [
    "\n",
    "print(programming_dictionary)"
   ]
  },
  {
   "cell_type": "code",
   "execution_count": 5,
   "id": "d01f051f",
   "metadata": {
    "execution": {
     "iopub.execute_input": "2022-06-21T19:45:41.869123Z",
     "iopub.status.busy": "2022-06-21T19:45:41.868334Z",
     "iopub.status.idle": "2022-06-21T19:45:41.873396Z",
     "shell.execute_reply": "2022-06-21T19:45:41.872511Z"
    },
    "papermill": {
     "duration": 0.012982,
     "end_time": "2022-06-21T19:45:41.876067",
     "exception": false,
     "start_time": "2022-06-21T19:45:41.863085",
     "status": "completed"
    },
    "tags": []
   },
   "outputs": [
    {
     "name": "stdout",
     "output_type": "stream",
     "text": [
      "An error in a program that prevents...\n",
      "A piece of code that you can call\n",
      "The action of doing something...\n"
     ]
    }
   ],
   "source": [
    "for key in programming_dictionary:\n",
    "    print(programming_dictionary[key])"
   ]
  },
  {
   "cell_type": "code",
   "execution_count": 6,
   "id": "dce02dd7",
   "metadata": {
    "execution": {
     "iopub.execute_input": "2022-06-21T19:45:41.886584Z",
     "iopub.status.busy": "2022-06-21T19:45:41.886175Z",
     "iopub.status.idle": "2022-06-21T19:45:41.893942Z",
     "shell.execute_reply": "2022-06-21T19:45:41.892920Z"
    },
    "papermill": {
     "duration": 0.017166,
     "end_time": "2022-06-21T19:45:41.897944",
     "exception": false,
     "start_time": "2022-06-21T19:45:41.880778",
     "status": "completed"
    },
    "tags": []
   },
   "outputs": [
    {
     "name": "stdout",
     "output_type": "stream",
     "text": [
      "{'Harry': 'Exceeds Expectations', 'Ron': 'Acceptable', 'Hermione': 'Outstanding', 'Draco': 'Acceptable', 'Neville': 'Fail'}\n"
     ]
    }
   ],
   "source": [
    "student_scores = {\n",
    "  \"Harry\": 81,\n",
    "  \"Ron\": 78,\n",
    "  \"Hermione\": 99, \n",
    "  \"Draco\": 74,\n",
    "  \"Neville\": 62,\n",
    "}\n",
    "# 🚨 Don't change the code above 👆\n",
    "\n",
    "#TODO-1: Create an empty dictionary called student_grades.\n",
    "student_grades = {}\n",
    "\n",
    "for student in student_scores:\n",
    "    score = student_scores[student]\n",
    "    if score > 90:\n",
    "        student_grades[student] = \"Outstanding\"\n",
    "    elif score > 80:\n",
    "        student_grades[student] = \"Exceeds Expectations\"\n",
    "    elif score > 70:\n",
    "        student_grades[student] = \"Acceptable\"\n",
    "    else:\n",
    "        student_grades[student] = \"Fail\"\n",
    "\n",
    "\n",
    "#TODO-2: Write your code below to add the grades to student_grades.👇\n",
    "\n",
    "    \n",
    "\n",
    "# 🚨 Don't change the code below 👇\n",
    "print(student_grades)"
   ]
  },
  {
   "cell_type": "code",
   "execution_count": 7,
   "id": "f5ad3620",
   "metadata": {
    "execution": {
     "iopub.execute_input": "2022-06-21T19:45:41.910262Z",
     "iopub.status.busy": "2022-06-21T19:45:41.909864Z",
     "iopub.status.idle": "2022-06-21T19:45:41.918131Z",
     "shell.execute_reply": "2022-06-21T19:45:41.917402Z"
    },
    "papermill": {
     "duration": 0.0158,
     "end_time": "2022-06-21T19:45:41.919911",
     "exception": false,
     "start_time": "2022-06-21T19:45:41.904111",
     "status": "completed"
    },
    "tags": []
   },
   "outputs": [],
   "source": [
    "#nesting\n",
    "\n",
    "#basic\n",
    "capitals = {\n",
    "    \"France\": \"Paris\",\n",
    "    \"Germany\": \"Berlin\",\n",
    "}\n",
    "\n",
    "#lists in a dictionary\n",
    "travel_log = {\n",
    "    \"France\": [\"Paris\", \"Lille\", \"Dijon\"],\n",
    "    \"Germany\": [\"Berlin\", \"hamburg\", \"Stuttgart\"],\n",
    "}\n",
    "\n",
    "#lists within a list\n",
    "list_a = [\"a\",\"b\",[\"c\",\"d\"]]\n",
    "\n",
    "#dictionaries within dictionaries\n",
    "travel_log2 = {\n",
    "    \"France\": {\"cities_visited\": [\"Paris\",\"Lille\",\"Dijon\"],\"total_visits\":12},\n",
    "    \"Germany\" : {\"cities_visited\": [\"Berline\",\"Hamburg\",\"Stuttgart\"], \"total_visits\":15},\n",
    "}\n",
    "\n",
    "#dictionaries nested in a list\n",
    "travel_log3 = [\n",
    "    {\n",
    "        \"country\":\"France\",\n",
    "        \"cities_visited\":[\"Paris\",\"Lille\",\"Dijon\"],\n",
    "        \"total_visits\": 12\n",
    "    },\n",
    "    {\n",
    "        \"country\":\"Germany\",\n",
    "        \"cities_visited\":[\"Berlin\",\"Hamburg\",\"Stuttgart\"],\n",
    "        \"total_visits\":5\n",
    "    },\n",
    "]"
   ]
  },
  {
   "cell_type": "code",
   "execution_count": 8,
   "id": "9b4430bd",
   "metadata": {
    "execution": {
     "iopub.execute_input": "2022-06-21T19:45:41.930485Z",
     "iopub.status.busy": "2022-06-21T19:45:41.929755Z",
     "iopub.status.idle": "2022-06-21T19:45:41.938532Z",
     "shell.execute_reply": "2022-06-21T19:45:41.937240Z"
    },
    "papermill": {
     "duration": 0.016536,
     "end_time": "2022-06-21T19:45:41.940702",
     "exception": false,
     "start_time": "2022-06-21T19:45:41.924166",
     "status": "completed"
    },
    "tags": []
   },
   "outputs": [
    {
     "name": "stdout",
     "output_type": "stream",
     "text": [
      "[{'country': 'France', 'visits': 12, 'cities': ['Paris', 'Lille', 'Dijon']}, {'country': 'Germany', 'visits': 5, 'cities': ['Berlin', 'Hamburg', 'Stuttgart']}, {'country': 'Russia', 'visits': 2, 'cities': ['Moscow', 'Saint Petersburg']}]\n"
     ]
    }
   ],
   "source": [
    "travel_log = [\n",
    "{\n",
    "  \"country\": \"France\",\n",
    "  \"visits\": 12,\n",
    "  \"cities\": [\"Paris\", \"Lille\", \"Dijon\"]\n",
    "},\n",
    "{\n",
    "  \"country\": \"Germany\",\n",
    "  \"visits\": 5,\n",
    "  \"cities\": [\"Berlin\", \"Hamburg\", \"Stuttgart\"]\n",
    "},\n",
    "]\n",
    "#🚨 Do NOT change the code above\n",
    "\n",
    "#TODO: Write the function that will allow new countries\n",
    "#to be added to the travel_log. 👇\n",
    "\n",
    "\n",
    "def add_new_country(country_visited, times_visited, cities_visited):\n",
    "    new_country = {}\n",
    "    new_country[\"country\"] = country_visited\n",
    "    new_country[\"visits\"] = times_visited\n",
    "    new_country[\"cities\"] = cities_visited\n",
    "    travel_log.append(new_country)\n",
    "\n",
    "#🚨 Do not change the code below\n",
    "add_new_country(\"Russia\", 2, [\"Moscow\", \"Saint Petersburg\"])\n",
    "print(travel_log)"
   ]
  },
  {
   "cell_type": "code",
   "execution_count": null,
   "id": "848cf744",
   "metadata": {
    "papermill": {
     "duration": 0.00372,
     "end_time": "2022-06-21T19:45:41.948481",
     "exception": false,
     "start_time": "2022-06-21T19:45:41.944761",
     "status": "completed"
    },
    "tags": []
   },
   "outputs": [],
   "source": []
  }
 ],
 "metadata": {
  "kernelspec": {
   "display_name": "Python 3",
   "language": "python",
   "name": "python3"
  },
  "language_info": {
   "codemirror_mode": {
    "name": "ipython",
    "version": 3
   },
   "file_extension": ".py",
   "mimetype": "text/x-python",
   "name": "python",
   "nbconvert_exporter": "python",
   "pygments_lexer": "ipython3",
   "version": "3.7.12"
  },
  "papermill": {
   "default_parameters": {},
   "duration": 12.252531,
   "end_time": "2022-06-21T19:45:42.674645",
   "environment_variables": {},
   "exception": null,
   "input_path": "__notebook__.ipynb",
   "output_path": "__notebook__.ipynb",
   "parameters": {},
   "start_time": "2022-06-21T19:45:30.422114",
   "version": "2.3.4"
  }
 },
 "nbformat": 4,
 "nbformat_minor": 5
}
