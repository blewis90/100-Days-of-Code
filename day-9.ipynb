{
 "cells": [
  {
   "cell_type": "code",
   "execution_count": 1,
   "id": "282f520b",
   "metadata": {
    "_cell_guid": "b1076dfc-b9ad-4769-8c92-a6c4dae69d19",
    "_uuid": "8f2839f25d086af736a60e9eeb907d3b93b6e0e5",
    "execution": {
     "iopub.execute_input": "2022-06-21T20:27:46.630240Z",
     "iopub.status.busy": "2022-06-21T20:27:46.629542Z",
     "iopub.status.idle": "2022-06-21T20:27:46.642464Z",
     "shell.execute_reply": "2022-06-21T20:27:46.641664Z"
    },
    "papermill": {
     "duration": 0.021356,
     "end_time": "2022-06-21T20:27:46.645006",
     "exception": false,
     "start_time": "2022-06-21T20:27:46.623650",
     "status": "completed"
    },
    "tags": []
   },
   "outputs": [],
   "source": [
    "# This Python 3 environment comes with many helpful analytics libraries installed\n",
    "# It is defined by the kaggle/python Docker image: https://github.com/kaggle/docker-python\n",
    "# For example, here's several helpful packages to load\n",
    "\n",
    "import numpy as np # linear algebra\n",
    "import pandas as pd # data processing, CSV file I/O (e.g. pd.read_csv)\n",
    "\n",
    "# Input data files are available in the read-only \"../input/\" directory\n",
    "# For example, running this (by clicking run or pressing Shift+Enter) will list all files under the input directory\n",
    "\n",
    "import os\n",
    "for dirname, _, filenames in os.walk('/kaggle/input'):\n",
    "    for filename in filenames:\n",
    "        print(os.path.join(dirname, filename))\n",
    "\n",
    "# You can write up to 20GB to the current directory (/kaggle/working/) that gets preserved as output when you create a version using \"Save & Run All\" \n",
    "# You can also write temporary files to /kaggle/temp/, but they won't be saved outside of the current session"
   ]
  },
  {
   "cell_type": "code",
   "execution_count": 2,
   "id": "98044b06",
   "metadata": {
    "execution": {
     "iopub.execute_input": "2022-06-21T20:27:46.656272Z",
     "iopub.status.busy": "2022-06-21T20:27:46.655725Z",
     "iopub.status.idle": "2022-06-21T20:27:46.660189Z",
     "shell.execute_reply": "2022-06-21T20:27:46.659474Z"
    },
    "papermill": {
     "duration": 0.010908,
     "end_time": "2022-06-21T20:27:46.662206",
     "exception": false,
     "start_time": "2022-06-21T20:27:46.651298",
     "status": "completed"
    },
    "tags": []
   },
   "outputs": [],
   "source": [
    "code = \"code\""
   ]
  },
  {
   "cell_type": "code",
   "execution_count": 3,
   "id": "61f34204",
   "metadata": {
    "execution": {
     "iopub.execute_input": "2022-06-21T20:27:46.669938Z",
     "iopub.status.busy": "2022-06-21T20:27:46.669278Z",
     "iopub.status.idle": "2022-06-21T20:27:46.675082Z",
     "shell.execute_reply": "2022-06-21T20:27:46.673680Z"
    },
    "papermill": {
     "duration": 0.012039,
     "end_time": "2022-06-21T20:27:46.677201",
     "exception": false,
     "start_time": "2022-06-21T20:27:46.665162",
     "status": "completed"
    },
    "tags": []
   },
   "outputs": [
    {
     "name": "stdout",
     "output_type": "stream",
     "text": [
      "{'Bug': 'An error in a program that prevents...', 'Function': 'A piece of code that you can call', 'Loop': 'The action of doing something...'}\n"
     ]
    }
   ],
   "source": [
    "programming_dictionary={\n",
    "    \n",
    "\"Bug\": \"An error in a program that prevents...\",\n",
    "\"Function\": \"A piece of code that you can call\",\n",
    "}\n",
    "\n",
    "\n",
    "programming_dictionary[\"Loop\"] = \"The action of doing something...\"\n",
    "print(programming_dictionary)"
   ]
  },
  {
   "cell_type": "code",
   "execution_count": 4,
   "id": "727d0363",
   "metadata": {
    "execution": {
     "iopub.execute_input": "2022-06-21T20:27:46.685389Z",
     "iopub.status.busy": "2022-06-21T20:27:46.684746Z",
     "iopub.status.idle": "2022-06-21T20:27:46.689668Z",
     "shell.execute_reply": "2022-06-21T20:27:46.688362Z"
    },
    "papermill": {
     "duration": 0.012724,
     "end_time": "2022-06-21T20:27:46.693003",
     "exception": false,
     "start_time": "2022-06-21T20:27:46.680279",
     "status": "completed"
    },
    "tags": []
   },
   "outputs": [
    {
     "name": "stdout",
     "output_type": "stream",
     "text": [
      "{'Bug': 'An error in a program that prevents...', 'Function': 'A piece of code that you can call', 'Loop': 'The action of doing something...'}\n"
     ]
    }
   ],
   "source": [
    "\n",
    "print(programming_dictionary)"
   ]
  },
  {
   "cell_type": "code",
   "execution_count": 5,
   "id": "ab97cd53",
   "metadata": {
    "execution": {
     "iopub.execute_input": "2022-06-21T20:27:46.701064Z",
     "iopub.status.busy": "2022-06-21T20:27:46.700641Z",
     "iopub.status.idle": "2022-06-21T20:27:46.705613Z",
     "shell.execute_reply": "2022-06-21T20:27:46.704534Z"
    },
    "papermill": {
     "duration": 0.011982,
     "end_time": "2022-06-21T20:27:46.708451",
     "exception": false,
     "start_time": "2022-06-21T20:27:46.696469",
     "status": "completed"
    },
    "tags": []
   },
   "outputs": [
    {
     "name": "stdout",
     "output_type": "stream",
     "text": [
      "An error in a program that prevents...\n",
      "A piece of code that you can call\n",
      "The action of doing something...\n"
     ]
    }
   ],
   "source": [
    "for key in programming_dictionary:\n",
    "    print(programming_dictionary[key])"
   ]
  },
  {
   "cell_type": "code",
   "execution_count": 6,
   "id": "346c98d2",
   "metadata": {
    "execution": {
     "iopub.execute_input": "2022-06-21T20:27:46.715939Z",
     "iopub.status.busy": "2022-06-21T20:27:46.715521Z",
     "iopub.status.idle": "2022-06-21T20:27:46.722119Z",
     "shell.execute_reply": "2022-06-21T20:27:46.721383Z"
    },
    "papermill": {
     "duration": 0.013217,
     "end_time": "2022-06-21T20:27:46.724594",
     "exception": false,
     "start_time": "2022-06-21T20:27:46.711377",
     "status": "completed"
    },
    "tags": []
   },
   "outputs": [
    {
     "name": "stdout",
     "output_type": "stream",
     "text": [
      "{'Harry': 'Exceeds Expectations', 'Ron': 'Acceptable', 'Hermione': 'Outstanding', 'Draco': 'Acceptable', 'Neville': 'Fail'}\n"
     ]
    }
   ],
   "source": [
    "student_scores = {\n",
    "  \"Harry\": 81,\n",
    "  \"Ron\": 78,\n",
    "  \"Hermione\": 99, \n",
    "  \"Draco\": 74,\n",
    "  \"Neville\": 62,\n",
    "}\n",
    "# 🚨 Don't change the code above 👆\n",
    "\n",
    "#TODO-1: Create an empty dictionary called student_grades.\n",
    "student_grades = {}\n",
    "\n",
    "for student in student_scores:\n",
    "    score = student_scores[student]\n",
    "    if score > 90:\n",
    "        student_grades[student] = \"Outstanding\"\n",
    "    elif score > 80:\n",
    "        student_grades[student] = \"Exceeds Expectations\"\n",
    "    elif score > 70:\n",
    "        student_grades[student] = \"Acceptable\"\n",
    "    else:\n",
    "        student_grades[student] = \"Fail\"\n",
    "\n",
    "\n",
    "#TODO-2: Write your code below to add the grades to student_grades.👇\n",
    "\n",
    "    \n",
    "\n",
    "# 🚨 Don't change the code below 👇\n",
    "print(student_grades)"
   ]
  },
  {
   "cell_type": "code",
   "execution_count": 7,
   "id": "20243dbe",
   "metadata": {
    "execution": {
     "iopub.execute_input": "2022-06-21T20:27:46.733460Z",
     "iopub.status.busy": "2022-06-21T20:27:46.732924Z",
     "iopub.status.idle": "2022-06-21T20:27:46.740116Z",
     "shell.execute_reply": "2022-06-21T20:27:46.739004Z"
    },
    "papermill": {
     "duration": 0.014048,
     "end_time": "2022-06-21T20:27:46.742525",
     "exception": false,
     "start_time": "2022-06-21T20:27:46.728477",
     "status": "completed"
    },
    "tags": []
   },
   "outputs": [],
   "source": [
    "#nesting\n",
    "\n",
    "#basic\n",
    "capitals = {\n",
    "    \"France\": \"Paris\",\n",
    "    \"Germany\": \"Berlin\",\n",
    "}\n",
    "\n",
    "#lists in a dictionary\n",
    "travel_log = {\n",
    "    \"France\": [\"Paris\", \"Lille\", \"Dijon\"],\n",
    "    \"Germany\": [\"Berlin\", \"hamburg\", \"Stuttgart\"],\n",
    "}\n",
    "\n",
    "#lists within a list\n",
    "list_a = [\"a\",\"b\",[\"c\",\"d\"]]\n",
    "\n",
    "#dictionaries within dictionaries\n",
    "travel_log2 = {\n",
    "    \"France\": {\"cities_visited\": [\"Paris\",\"Lille\",\"Dijon\"],\"total_visits\":12},\n",
    "    \"Germany\" : {\"cities_visited\": [\"Berline\",\"Hamburg\",\"Stuttgart\"], \"total_visits\":15},\n",
    "}\n",
    "\n",
    "#dictionaries nested in a list\n",
    "travel_log3 = [\n",
    "    {\n",
    "        \"country\":\"France\",\n",
    "        \"cities_visited\":[\"Paris\",\"Lille\",\"Dijon\"],\n",
    "        \"total_visits\": 12\n",
    "    },\n",
    "    {\n",
    "        \"country\":\"Germany\",\n",
    "        \"cities_visited\":[\"Berlin\",\"Hamburg\",\"Stuttgart\"],\n",
    "        \"total_visits\":5\n",
    "    },\n",
    "]"
   ]
  },
  {
   "cell_type": "code",
   "execution_count": 8,
   "id": "bf3ba86a",
   "metadata": {
    "execution": {
     "iopub.execute_input": "2022-06-21T20:27:46.751111Z",
     "iopub.status.busy": "2022-06-21T20:27:46.750530Z",
     "iopub.status.idle": "2022-06-21T20:27:46.757815Z",
     "shell.execute_reply": "2022-06-21T20:27:46.756592Z"
    },
    "papermill": {
     "duration": 0.014271,
     "end_time": "2022-06-21T20:27:46.760045",
     "exception": false,
     "start_time": "2022-06-21T20:27:46.745774",
     "status": "completed"
    },
    "tags": []
   },
   "outputs": [
    {
     "name": "stdout",
     "output_type": "stream",
     "text": [
      "[{'country': 'France', 'visits': 12, 'cities': ['Paris', 'Lille', 'Dijon']}, {'country': 'Germany', 'visits': 5, 'cities': ['Berlin', 'Hamburg', 'Stuttgart']}, {'country': 'Russia', 'visits': 2, 'cities': ['Moscow', 'Saint Petersburg']}]\n"
     ]
    }
   ],
   "source": [
    "travel_log = [\n",
    "{\n",
    "  \"country\": \"France\",\n",
    "  \"visits\": 12,\n",
    "  \"cities\": [\"Paris\", \"Lille\", \"Dijon\"]\n",
    "},\n",
    "{\n",
    "  \"country\": \"Germany\",\n",
    "  \"visits\": 5,\n",
    "  \"cities\": [\"Berlin\", \"Hamburg\", \"Stuttgart\"]\n",
    "},\n",
    "]\n",
    "#🚨 Do NOT change the code above\n",
    "\n",
    "#TODO: Write the function that will allow new countries\n",
    "#to be added to the travel_log. 👇\n",
    "\n",
    "\n",
    "def add_new_country(country_visited, times_visited, cities_visited):\n",
    "    new_country = {}\n",
    "    new_country[\"country\"] = country_visited\n",
    "    new_country[\"visits\"] = times_visited\n",
    "    new_country[\"cities\"] = cities_visited\n",
    "    travel_log.append(new_country)\n",
    "\n",
    "#🚨 Do not change the code below\n",
    "add_new_country(\"Russia\", 2, [\"Moscow\", \"Saint Petersburg\"])\n",
    "print(travel_log)"
   ]
  },
  {
   "cell_type": "code",
   "execution_count": null,
   "id": "e562c899",
   "metadata": {
    "papermill": {
     "duration": 0.002781,
     "end_time": "2022-06-21T20:27:46.765924",
     "exception": false,
     "start_time": "2022-06-21T20:27:46.763143",
     "status": "completed"
    },
    "tags": []
   },
   "outputs": [],
   "source": []
  }
 ],
 "metadata": {
  "kernelspec": {
   "display_name": "Python 3",
   "language": "python",
   "name": "python3"
  },
  "language_info": {
   "codemirror_mode": {
    "name": "ipython",
    "version": 3
   },
   "file_extension": ".py",
   "mimetype": "text/x-python",
   "name": "python",
   "nbconvert_exporter": "python",
   "pygments_lexer": "ipython3",
   "version": "3.7.12"
  },
  "papermill": {
   "default_parameters": {},
   "duration": 9.909268,
   "end_time": "2022-06-21T20:27:47.490342",
   "environment_variables": {},
   "exception": null,
   "input_path": "__notebook__.ipynb",
   "output_path": "__notebook__.ipynb",
   "parameters": {},
   "start_time": "2022-06-21T20:27:37.581074",
   "version": "2.3.4"
  }
 },
 "nbformat": 4,
 "nbformat_minor": 5
}
