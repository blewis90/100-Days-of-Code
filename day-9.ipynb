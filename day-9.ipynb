{
 "cells": [
  {
   "cell_type": "code",
   "execution_count": 1,
   "id": "65fe2bc6",
   "metadata": {
    "_cell_guid": "b1076dfc-b9ad-4769-8c92-a6c4dae69d19",
    "_uuid": "8f2839f25d086af736a60e9eeb907d3b93b6e0e5",
    "execution": {
     "iopub.execute_input": "2022-06-21T19:24:48.415773Z",
     "iopub.status.busy": "2022-06-21T19:24:48.415063Z",
     "iopub.status.idle": "2022-06-21T19:24:48.431352Z",
     "shell.execute_reply": "2022-06-21T19:24:48.430411Z"
    },
    "papermill": {
     "duration": 0.025185,
     "end_time": "2022-06-21T19:24:48.433882",
     "exception": false,
     "start_time": "2022-06-21T19:24:48.408697",
     "status": "completed"
    },
    "tags": []
   },
   "outputs": [],
   "source": [
    "# This Python 3 environment comes with many helpful analytics libraries installed\n",
    "# It is defined by the kaggle/python Docker image: https://github.com/kaggle/docker-python\n",
    "# For example, here's several helpful packages to load\n",
    "\n",
    "import numpy as np # linear algebra\n",
    "import pandas as pd # data processing, CSV file I/O (e.g. pd.read_csv)\n",
    "\n",
    "# Input data files are available in the read-only \"../input/\" directory\n",
    "# For example, running this (by clicking run or pressing Shift+Enter) will list all files under the input directory\n",
    "\n",
    "import os\n",
    "for dirname, _, filenames in os.walk('/kaggle/input'):\n",
    "    for filename in filenames:\n",
    "        print(os.path.join(dirname, filename))\n",
    "\n",
    "# You can write up to 20GB to the current directory (/kaggle/working/) that gets preserved as output when you create a version using \"Save & Run All\" \n",
    "# You can also write temporary files to /kaggle/temp/, but they won't be saved outside of the current session"
   ]
  },
  {
   "cell_type": "code",
   "execution_count": 2,
   "id": "b72c24b1",
   "metadata": {
    "execution": {
     "iopub.execute_input": "2022-06-21T19:24:48.441859Z",
     "iopub.status.busy": "2022-06-21T19:24:48.441450Z",
     "iopub.status.idle": "2022-06-21T19:24:48.446238Z",
     "shell.execute_reply": "2022-06-21T19:24:48.445101Z"
    },
    "papermill": {
     "duration": 0.011275,
     "end_time": "2022-06-21T19:24:48.448564",
     "exception": false,
     "start_time": "2022-06-21T19:24:48.437289",
     "status": "completed"
    },
    "tags": []
   },
   "outputs": [],
   "source": [
    "code = \"code\""
   ]
  },
  {
   "cell_type": "code",
   "execution_count": 3,
   "id": "e50030f1",
   "metadata": {
    "execution": {
     "iopub.execute_input": "2022-06-21T19:24:48.456856Z",
     "iopub.status.busy": "2022-06-21T19:24:48.455850Z",
     "iopub.status.idle": "2022-06-21T19:24:48.463122Z",
     "shell.execute_reply": "2022-06-21T19:24:48.461984Z"
    },
    "papermill": {
     "duration": 0.013858,
     "end_time": "2022-06-21T19:24:48.465586",
     "exception": false,
     "start_time": "2022-06-21T19:24:48.451728",
     "status": "completed"
    },
    "tags": []
   },
   "outputs": [
    {
     "name": "stdout",
     "output_type": "stream",
     "text": [
      "{'Bug': 'An error in a program that prevents...', 'Function': 'A piece of code that you can call', 'Loop': 'The action of doing something...'}\n"
     ]
    }
   ],
   "source": [
    "programming_dictionary={\n",
    "    \n",
    "\"Bug\": \"An error in a program that prevents...\",\n",
    "\"Function\": \"A piece of code that you can call\",\n",
    "}\n",
    "\n",
    "\n",
    "programming_dictionary[\"Loop\"] = \"The action of doing something...\"\n",
    "print(programming_dictionary)"
   ]
  },
  {
   "cell_type": "code",
   "execution_count": 4,
   "id": "2bcf76cf",
   "metadata": {
    "execution": {
     "iopub.execute_input": "2022-06-21T19:24:48.473716Z",
     "iopub.status.busy": "2022-06-21T19:24:48.472823Z",
     "iopub.status.idle": "2022-06-21T19:24:48.479394Z",
     "shell.execute_reply": "2022-06-21T19:24:48.478103Z"
    },
    "papermill": {
     "duration": 0.012897,
     "end_time": "2022-06-21T19:24:48.481539",
     "exception": false,
     "start_time": "2022-06-21T19:24:48.468642",
     "status": "completed"
    },
    "tags": []
   },
   "outputs": [
    {
     "name": "stdout",
     "output_type": "stream",
     "text": [
      "{'Bug': 'An error in a program that prevents...', 'Function': 'A piece of code that you can call', 'Loop': 'The action of doing something...'}\n"
     ]
    }
   ],
   "source": [
    "\n",
    "print(programming_dictionary)"
   ]
  },
  {
   "cell_type": "code",
   "execution_count": 5,
   "id": "66aa8150",
   "metadata": {
    "execution": {
     "iopub.execute_input": "2022-06-21T19:24:48.489926Z",
     "iopub.status.busy": "2022-06-21T19:24:48.489283Z",
     "iopub.status.idle": "2022-06-21T19:24:48.495569Z",
     "shell.execute_reply": "2022-06-21T19:24:48.494398Z"
    },
    "papermill": {
     "duration": 0.013924,
     "end_time": "2022-06-21T19:24:48.498659",
     "exception": false,
     "start_time": "2022-06-21T19:24:48.484735",
     "status": "completed"
    },
    "tags": []
   },
   "outputs": [
    {
     "name": "stdout",
     "output_type": "stream",
     "text": [
      "An error in a program that prevents...\n",
      "A piece of code that you can call\n",
      "The action of doing something...\n"
     ]
    }
   ],
   "source": [
    "for key in programming_dictionary:\n",
    "    print(programming_dictionary[key])"
   ]
  },
  {
   "cell_type": "code",
   "execution_count": 6,
   "id": "93f4e2af",
   "metadata": {
    "execution": {
     "iopub.execute_input": "2022-06-21T19:24:48.508369Z",
     "iopub.status.busy": "2022-06-21T19:24:48.507788Z",
     "iopub.status.idle": "2022-06-21T19:24:48.518380Z",
     "shell.execute_reply": "2022-06-21T19:24:48.516788Z"
    },
    "papermill": {
     "duration": 0.019124,
     "end_time": "2022-06-21T19:24:48.521371",
     "exception": false,
     "start_time": "2022-06-21T19:24:48.502247",
     "status": "completed"
    },
    "tags": []
   },
   "outputs": [
    {
     "name": "stdout",
     "output_type": "stream",
     "text": [
      "{'Harry': 'Exceeds Expectations', 'Ron': 'Acceptable', 'Hermione': 'Outstanding', 'Draco': 'Acceptable', 'Neville': 'Fail'}\n"
     ]
    }
   ],
   "source": [
    "student_scores = {\n",
    "  \"Harry\": 81,\n",
    "  \"Ron\": 78,\n",
    "  \"Hermione\": 99, \n",
    "  \"Draco\": 74,\n",
    "  \"Neville\": 62,\n",
    "}\n",
    "# 🚨 Don't change the code above 👆\n",
    "\n",
    "#TODO-1: Create an empty dictionary called student_grades.\n",
    "student_grades = {}\n",
    "\n",
    "for student in student_scores:\n",
    "    score = student_scores[student]\n",
    "    if score > 90:\n",
    "        student_grades[student] = \"Outstanding\"\n",
    "    elif score > 80:\n",
    "        student_grades[student] = \"Exceeds Expectations\"\n",
    "    elif score > 70:\n",
    "        student_grades[student] = \"Acceptable\"\n",
    "    else:\n",
    "        student_grades[student] = \"Fail\"\n",
    "\n",
    "\n",
    "#TODO-2: Write your code below to add the grades to student_grades.👇\n",
    "\n",
    "    \n",
    "\n",
    "# 🚨 Don't change the code below 👇\n",
    "print(student_grades)"
   ]
  },
  {
   "cell_type": "code",
   "execution_count": null,
   "id": "e2170da8",
   "metadata": {
    "papermill": {
     "duration": 0.003494,
     "end_time": "2022-06-21T19:24:48.528947",
     "exception": false,
     "start_time": "2022-06-21T19:24:48.525453",
     "status": "completed"
    },
    "tags": []
   },
   "outputs": [],
   "source": []
  }
 ],
 "metadata": {
  "kernelspec": {
   "display_name": "Python 3",
   "language": "python",
   "name": "python3"
  },
  "language_info": {
   "codemirror_mode": {
    "name": "ipython",
    "version": 3
   },
   "file_extension": ".py",
   "mimetype": "text/x-python",
   "name": "python",
   "nbconvert_exporter": "python",
   "pygments_lexer": "ipython3",
   "version": "3.7.12"
  },
  "papermill": {
   "default_parameters": {},
   "duration": 10.897499,
   "end_time": "2022-06-21T19:24:49.153756",
   "environment_variables": {},
   "exception": null,
   "input_path": "__notebook__.ipynb",
   "output_path": "__notebook__.ipynb",
   "parameters": {},
   "start_time": "2022-06-21T19:24:38.256257",
   "version": "2.3.4"
  }
 },
 "nbformat": 4,
 "nbformat_minor": 5
}
