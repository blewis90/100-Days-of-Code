{
 "cells": [
  {
   "cell_type": "code",
   "execution_count": 1,
   "id": "86c13439",
   "metadata": {
    "_cell_guid": "b1076dfc-b9ad-4769-8c92-a6c4dae69d19",
    "_uuid": "8f2839f25d086af736a60e9eeb907d3b93b6e0e5",
    "execution": {
     "iopub.execute_input": "2022-06-17T20:22:05.730925Z",
     "iopub.status.busy": "2022-06-17T20:22:05.730450Z",
     "iopub.status.idle": "2022-06-17T20:22:05.742738Z",
     "shell.execute_reply": "2022-06-17T20:22:05.741818Z"
    },
    "papermill": {
     "duration": 0.019455,
     "end_time": "2022-06-17T20:22:05.745201",
     "exception": false,
     "start_time": "2022-06-17T20:22:05.725746",
     "status": "completed"
    },
    "tags": []
   },
   "outputs": [],
   "source": [
    "# This Python 3 environment comes with many helpful analytics libraries installed\n",
    "# It is defined by the kaggle/python Docker image: https://github.com/kaggle/docker-python\n",
    "# For example, here's several helpful packages to load\n",
    "\n",
    "import numpy as np # linear algebra\n",
    "import pandas as pd # data processing, CSV file I/O (e.g. pd.read_csv)\n",
    "\n",
    "# Input data files are available in the read-only \"../input/\" directory\n",
    "# For example, running this (by clicking run or pressing Shift+Enter) will list all files under the input directory\n",
    "\n",
    "import os\n",
    "for dirname, _, filenames in os.walk('/kaggle/input'):\n",
    "    for filename in filenames:\n",
    "        print(os.path.join(dirname, filename))\n",
    "\n",
    "# You can write up to 20GB to the current directory (/kaggle/working/) that gets preserved as output when you create a version using \"Save & Run All\" \n",
    "# You can also write temporary files to /kaggle/temp/, but they won't be saved outside of the current session"
   ]
  },
  {
   "cell_type": "code",
   "execution_count": 2,
   "id": "7e01d333",
   "metadata": {
    "execution": {
     "iopub.execute_input": "2022-06-17T20:22:05.751360Z",
     "iopub.status.busy": "2022-06-17T20:22:05.750776Z",
     "iopub.status.idle": "2022-06-17T20:22:05.755014Z",
     "shell.execute_reply": "2022-06-17T20:22:05.754365Z"
    },
    "papermill": {
     "duration": 0.009361,
     "end_time": "2022-06-17T20:22:05.756870",
     "exception": false,
     "start_time": "2022-06-17T20:22:05.747509",
     "status": "completed"
    },
    "tags": []
   },
   "outputs": [],
   "source": [
    "code = \"code\""
   ]
  },
  {
   "cell_type": "code",
   "execution_count": null,
   "id": "c1cde9f7",
   "metadata": {
    "papermill": {
     "duration": 0.001719,
     "end_time": "2022-06-17T20:22:05.760675",
     "exception": false,
     "start_time": "2022-06-17T20:22:05.758956",
     "status": "completed"
    },
    "tags": []
   },
   "outputs": [],
   "source": []
  }
 ],
 "metadata": {
  "kernelspec": {
   "display_name": "Python 3",
   "language": "python",
   "name": "python3"
  },
  "language_info": {
   "codemirror_mode": {
    "name": "ipython",
    "version": 3
   },
   "file_extension": ".py",
   "mimetype": "text/x-python",
   "name": "python",
   "nbconvert_exporter": "python",
   "pygments_lexer": "ipython3",
   "version": "3.7.12"
  },
  "papermill": {
   "default_parameters": {},
   "duration": 10.852826,
   "end_time": "2022-06-17T20:22:06.383409",
   "environment_variables": {},
   "exception": null,
   "input_path": "__notebook__.ipynb",
   "output_path": "__notebook__.ipynb",
   "parameters": {},
   "start_time": "2022-06-17T20:21:55.530583",
   "version": "2.3.4"
  }
 },
 "nbformat": 4,
 "nbformat_minor": 5
}
