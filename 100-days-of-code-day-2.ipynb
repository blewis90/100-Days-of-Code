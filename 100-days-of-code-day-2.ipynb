{
 "cells": [
  {
   "cell_type": "code",
   "execution_count": 1,
   "id": "08f4fc8a",
   "metadata": {
    "_cell_guid": "b1076dfc-b9ad-4769-8c92-a6c4dae69d19",
    "_uuid": "8f2839f25d086af736a60e9eeb907d3b93b6e0e5",
    "execution": {
     "iopub.execute_input": "2022-06-06T17:56:14.871381Z",
     "iopub.status.busy": "2022-06-06T17:56:14.870782Z",
     "iopub.status.idle": "2022-06-06T17:56:14.886387Z",
     "shell.execute_reply": "2022-06-06T17:56:14.885374Z"
    },
    "papermill": {
     "duration": 0.028522,
     "end_time": "2022-06-06T17:56:14.889751",
     "exception": false,
     "start_time": "2022-06-06T17:56:14.861229",
     "status": "completed"
    },
    "tags": []
   },
   "outputs": [],
   "source": [
    "# This Python 3 environment comes with many helpful analytics libraries installed\n",
    "# It is defined by the kaggle/python Docker image: https://github.com/kaggle/docker-python\n",
    "# For example, here's several helpful packages to load\n",
    "\n",
    "import numpy as np # linear algebra\n",
    "import pandas as pd # data processing, CSV file I/O (e.g. pd.read_csv)\n",
    "\n",
    "# Input data files are available in the read-only \"../input/\" directory\n",
    "# For example, running this (by clicking run or pressing Shift+Enter) will list all files under the input directory\n",
    "\n",
    "import os\n",
    "for dirname, _, filenames in os.walk('/kaggle/input'):\n",
    "    for filename in filenames:\n",
    "        print(os.path.join(dirname, filename))\n",
    "\n",
    "# You can write up to 20GB to the current directory (/kaggle/working/) that gets preserved as output when you create a version using \"Save & Run All\" \n",
    "# You can also write temporary files to /kaggle/temp/, but they won't be saved outside of the current session"
   ]
  },
  {
   "cell_type": "code",
   "execution_count": 2,
   "id": "03649ae9",
   "metadata": {
    "execution": {
     "iopub.execute_input": "2022-06-06T17:56:14.902794Z",
     "iopub.status.busy": "2022-06-06T17:56:14.902342Z",
     "iopub.status.idle": "2022-06-06T17:56:14.910948Z",
     "shell.execute_reply": "2022-06-06T17:56:14.909825Z"
    },
    "papermill": {
     "duration": 0.01822,
     "end_time": "2022-06-06T17:56:14.914682",
     "exception": false,
     "start_time": "2022-06-06T17:56:14.896462",
     "status": "completed"
    },
    "tags": []
   },
   "outputs": [
    {
     "data": {
      "text/plain": [
       "'H'"
      ]
     },
     "execution_count": 2,
     "metadata": {},
     "output_type": "execute_result"
    }
   ],
   "source": [
    "\"Hello\"[0]"
   ]
  },
  {
   "cell_type": "code",
   "execution_count": 3,
   "id": "a9b98f0d",
   "metadata": {
    "execution": {
     "iopub.execute_input": "2022-06-06T17:56:14.925935Z",
     "iopub.status.busy": "2022-06-06T17:56:14.925160Z",
     "iopub.status.idle": "2022-06-06T17:56:14.931592Z",
     "shell.execute_reply": "2022-06-06T17:56:14.930295Z"
    },
    "papermill": {
     "duration": 0.015496,
     "end_time": "2022-06-06T17:56:14.934668",
     "exception": false,
     "start_time": "2022-06-06T17:56:14.919172",
     "status": "completed"
    },
    "tags": []
   },
   "outputs": [
    {
     "name": "stdout",
     "output_type": "stream",
     "text": [
      "H\n"
     ]
    }
   ],
   "source": [
    "print(\"Hello\"[0])"
   ]
  },
  {
   "cell_type": "code",
   "execution_count": 4,
   "id": "abe271a0",
   "metadata": {
    "execution": {
     "iopub.execute_input": "2022-06-06T17:56:14.946514Z",
     "iopub.status.busy": "2022-06-06T17:56:14.945700Z",
     "iopub.status.idle": "2022-06-06T17:56:14.951651Z",
     "shell.execute_reply": "2022-06-06T17:56:14.950493Z"
    },
    "papermill": {
     "duration": 0.013872,
     "end_time": "2022-06-06T17:56:14.953677",
     "exception": false,
     "start_time": "2022-06-06T17:56:14.939805",
     "status": "completed"
    },
    "tags": []
   },
   "outputs": [
    {
     "name": "stdout",
     "output_type": "stream",
     "text": [
      "o\n"
     ]
    }
   ],
   "source": [
    "print(\"Hello\"[4])"
   ]
  },
  {
   "cell_type": "code",
   "execution_count": 5,
   "id": "e19d9698",
   "metadata": {
    "execution": {
     "iopub.execute_input": "2022-06-06T17:56:14.965757Z",
     "iopub.status.busy": "2022-06-06T17:56:14.964993Z",
     "iopub.status.idle": "2022-06-06T17:56:14.970899Z",
     "shell.execute_reply": "2022-06-06T17:56:14.969724Z"
    },
    "papermill": {
     "duration": 0.014791,
     "end_time": "2022-06-06T17:56:14.972845",
     "exception": false,
     "start_time": "2022-06-06T17:56:14.958054",
     "status": "completed"
    },
    "tags": []
   },
   "outputs": [
    {
     "name": "stdout",
     "output_type": "stream",
     "text": [
      "468\n"
     ]
    }
   ],
   "source": [
    "print(123 + 345)"
   ]
  },
  {
   "cell_type": "code",
   "execution_count": 6,
   "id": "7b59eadc",
   "metadata": {
    "execution": {
     "iopub.execute_input": "2022-06-06T17:56:14.983802Z",
     "iopub.status.busy": "2022-06-06T17:56:14.983046Z",
     "iopub.status.idle": "2022-06-06T17:56:14.989024Z",
     "shell.execute_reply": "2022-06-06T17:56:14.988246Z"
    },
    "papermill": {
     "duration": 0.013631,
     "end_time": "2022-06-06T17:56:14.990962",
     "exception": false,
     "start_time": "2022-06-06T17:56:14.977331",
     "status": "completed"
    },
    "tags": []
   },
   "outputs": [
    {
     "data": {
      "text/plain": [
       "3.14159"
      ]
     },
     "execution_count": 6,
     "metadata": {},
     "output_type": "execute_result"
    }
   ],
   "source": [
    "#Float\n",
    "3.14159"
   ]
  },
  {
   "cell_type": "code",
   "execution_count": 7,
   "id": "6fa57cc1",
   "metadata": {
    "execution": {
     "iopub.execute_input": "2022-06-06T17:56:15.002471Z",
     "iopub.status.busy": "2022-06-06T17:56:15.001624Z",
     "iopub.status.idle": "2022-06-06T17:56:15.008405Z",
     "shell.execute_reply": "2022-06-06T17:56:15.007380Z"
    },
    "papermill": {
     "duration": 0.014956,
     "end_time": "2022-06-06T17:56:15.010488",
     "exception": false,
     "start_time": "2022-06-06T17:56:14.995532",
     "status": "completed"
    },
    "tags": []
   },
   "outputs": [
    {
     "data": {
      "text/plain": [
       "3"
      ]
     },
     "execution_count": 7,
     "metadata": {},
     "output_type": "execute_result"
    }
   ],
   "source": [
    "#Integer\n",
    "3"
   ]
  },
  {
   "cell_type": "code",
   "execution_count": 8,
   "id": "46404580",
   "metadata": {
    "execution": {
     "iopub.execute_input": "2022-06-06T17:56:15.022762Z",
     "iopub.status.busy": "2022-06-06T17:56:15.021783Z",
     "iopub.status.idle": "2022-06-06T17:56:15.029373Z",
     "shell.execute_reply": "2022-06-06T17:56:15.028439Z"
    },
    "papermill": {
     "duration": 0.016196,
     "end_time": "2022-06-06T17:56:15.031481",
     "exception": false,
     "start_time": "2022-06-06T17:56:15.015285",
     "status": "completed"
    },
    "tags": []
   },
   "outputs": [
    {
     "data": {
      "text/plain": [
       "False"
      ]
     },
     "execution_count": 8,
     "metadata": {},
     "output_type": "execute_result"
    }
   ],
   "source": [
    "#Boolean\n",
    "True\n",
    "False"
   ]
  },
  {
   "cell_type": "code",
   "execution_count": 9,
   "id": "7bc2396b",
   "metadata": {
    "execution": {
     "iopub.execute_input": "2022-06-06T17:56:15.044257Z",
     "iopub.status.busy": "2022-06-06T17:56:15.043437Z",
     "iopub.status.idle": "2022-06-06T17:56:15.050537Z",
     "shell.execute_reply": "2022-06-06T17:56:15.049552Z"
    },
    "papermill": {
     "duration": 0.01628,
     "end_time": "2022-06-06T17:56:15.052828",
     "exception": false,
     "start_time": "2022-06-06T17:56:15.036548",
     "status": "completed"
    },
    "tags": []
   },
   "outputs": [
    {
     "data": {
      "text/plain": [
       "float"
      ]
     },
     "execution_count": 9,
     "metadata": {},
     "output_type": "execute_result"
    }
   ],
   "source": [
    "mystery = 734_529.678\n",
    "type(mystery)"
   ]
  },
  {
   "cell_type": "code",
   "execution_count": 10,
   "id": "bdf2e428",
   "metadata": {
    "execution": {
     "iopub.execute_input": "2022-06-06T17:56:15.065154Z",
     "iopub.status.busy": "2022-06-06T17:56:15.064421Z",
     "iopub.status.idle": "2022-06-06T17:56:15.069924Z",
     "shell.execute_reply": "2022-06-06T17:56:15.069155Z"
    },
    "papermill": {
     "duration": 0.014322,
     "end_time": "2022-06-06T17:56:15.072356",
     "exception": false,
     "start_time": "2022-06-06T17:56:15.058034",
     "status": "completed"
    },
    "tags": []
   },
   "outputs": [],
   "source": [
    "### len(4837) - would break, function can't handle integers"
   ]
  },
  {
   "cell_type": "code",
   "execution_count": 11,
   "id": "387bf011",
   "metadata": {
    "execution": {
     "iopub.execute_input": "2022-06-06T17:56:15.085318Z",
     "iopub.status.busy": "2022-06-06T17:56:15.084143Z",
     "iopub.status.idle": "2022-06-06T17:56:15.091310Z",
     "shell.execute_reply": "2022-06-06T17:56:15.090369Z"
    },
    "papermill": {
     "duration": 0.015783,
     "end_time": "2022-06-06T17:56:15.093362",
     "exception": false,
     "start_time": "2022-06-06T17:56:15.077579",
     "status": "completed"
    },
    "tags": []
   },
   "outputs": [
    {
     "data": {
      "text/plain": [
       "4"
      ]
     },
     "execution_count": 11,
     "metadata": {},
     "output_type": "execute_result"
    }
   ],
   "source": [
    "len(\"4837\")"
   ]
  },
  {
   "cell_type": "code",
   "execution_count": null,
   "id": "e7873b87",
   "metadata": {
    "papermill": {
     "duration": 0.004932,
     "end_time": "2022-06-06T17:56:15.103599",
     "exception": false,
     "start_time": "2022-06-06T17:56:15.098667",
     "status": "completed"
    },
    "tags": []
   },
   "outputs": [],
   "source": []
  }
 ],
 "metadata": {
  "kernelspec": {
   "display_name": "Python 3",
   "language": "python",
   "name": "python3"
  },
  "language_info": {
   "codemirror_mode": {
    "name": "ipython",
    "version": 3
   },
   "file_extension": ".py",
   "mimetype": "text/x-python",
   "name": "python",
   "nbconvert_exporter": "python",
   "pygments_lexer": "ipython3",
   "version": "3.7.12"
  },
  "papermill": {
   "default_parameters": {},
   "duration": 11.700379,
   "end_time": "2022-06-06T17:56:15.933268",
   "environment_variables": {},
   "exception": null,
   "input_path": "__notebook__.ipynb",
   "output_path": "__notebook__.ipynb",
   "parameters": {},
   "start_time": "2022-06-06T17:56:04.232889",
   "version": "2.3.4"
  }
 },
 "nbformat": 4,
 "nbformat_minor": 5
}
